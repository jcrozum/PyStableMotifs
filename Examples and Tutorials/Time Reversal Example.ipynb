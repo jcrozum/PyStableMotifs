{
 "cells": [
  {
   "cell_type": "markdown",
   "id": "c9ab1da9",
   "metadata": {},
   "source": [
    "# Time reversal example"
   ]
  },
  {
   "cell_type": "code",
   "execution_count": 1,
   "id": "0d22cc90",
   "metadata": {},
   "outputs": [],
   "source": [
    "import pystablemotifs as sm\n",
    "import pyboolnet.trap_spaces as ts"
   ]
  },
  {
   "cell_type": "markdown",
   "id": "cf375f14",
   "metadata": {},
   "source": [
    "## Importing the network: TLGL-Small\n",
    "This network is a simplified model of TLGL cancer. We will use time reversal to analyze a simplified TLGL model."
   ]
  },
  {
   "cell_type": "code",
   "execution_count": 2,
   "id": "91dfa11e",
   "metadata": {},
   "outputs": [
    {
     "name": "stdout",
     "output_type": "stream",
     "text": [
      "apo* = disc | apo\n",
      "cer* = !apo & fas & !s1p\n",
      "disc* = !apo & fas & !flip | !apo & cer\n",
      "fas* = !apo & !s1p\n",
      "flip* = !apo & !disc\n",
      "s1p* = !apo & !cer\n"
     ]
    }
   ],
   "source": [
    "primes = sm.format.import_primes('../models/TLGL_Small.txt',remove_constants=True)\n",
    "sm.format.pretty_print_prime_rules(primes)"
   ]
  },
  {
   "cell_type": "markdown",
   "id": "33ee323b",
   "metadata": {},
   "source": [
    "## Computing the time reversal and garden spaces"
   ]
  },
  {
   "cell_type": "code",
   "execution_count": 3,
   "id": "35c105ed",
   "metadata": {},
   "outputs": [
    {
     "name": "stdout",
     "output_type": "stream",
     "text": [
      "apo* = apo & !disc\n",
      "cer* = s1p | !fas | apo\n",
      "disc* = !cer & flip | !cer & !fas | apo\n",
      "fas* = s1p | apo\n",
      "flip* = disc | apo\n",
      "s1p* = cer | apo\n"
     ]
    }
   ],
   "source": [
    "trprimes=sm.time_reversal.time_reverse_primes(primes)\n",
    "sm.format.pretty_print_prime_rules(trprimes)"
   ]
  },
  {
   "cell_type": "markdown",
   "id": "8fd146c5",
   "metadata": {},
   "source": [
    "The stable motifs (maximal trap spaces) of the time-reversed system are the garden spaces of the forward-time system."
   ]
  },
  {
   "cell_type": "code",
   "execution_count": 4,
   "id": "10872928",
   "metadata": {},
   "outputs": [
    {
     "name": "stdout",
     "output_type": "stream",
     "text": [
      "{'cer': 1, 's1p': 1}\n",
      "{'apo': 0}\n"
     ]
    }
   ],
   "source": [
    "gs=ts.trap_spaces(trprimes,'max')\n",
    "for x in gs: print(x)"
   ]
  },
  {
   "cell_type": "markdown",
   "id": "1f4e4ce5",
   "metadata": {},
   "source": [
    "## Partitioning statespace and analyzing the partitions\n",
    "Thus, the state-space is partitioned into four regions:\n",
    "\n",
    "1. cer & s1p = 1, apo = 0\n",
    "2. cer & s1p = 1, apo = 1\n",
    "3. cer & s1p = 0, apo = 0\n",
    "4. cer & s1p = 0, apo = 1\n",
    "\n",
    "and no attractor lies in more than one region.\n",
    "Note that these are NOT the garden spaces, which are instead defined by the variable `gs` above, i.e., they are regions 1, 1 union 2, and 1 union 3.\n",
    "\n",
    "We will analyze these regions using the logical domain of influence (LDOI), which is describes the percolation of an input set.\n",
    "\n",
    "Consider regions 1 and 2 and the LDOI of `{(cer,1),(s1p,1)}`:"
   ]
  },
  {
   "cell_type": "code",
   "execution_count": 5,
   "id": "ac4c34bc",
   "metadata": {},
   "outputs": [
    {
     "name": "stdout",
     "output_type": "stream",
     "text": [
      "logical domain of influence: {'fas': 0}\n",
      "contradiction boundary: {'cer': 0, 's1p': 0}\n"
     ]
    }
   ],
   "source": [
    "imp12,con12 = sm.drivers.logical_domain_of_influence({'cer': 1, 's1p': 1},primes)\n",
    "print('logical domain of influence:',imp12)\n",
    "print('contradiction boundary:',con12)"
   ]
  },
  {
   "cell_type": "markdown",
   "id": "37d2066b",
   "metadata": {},
   "source": [
    "The contradiction boundary is non-empty, and therefore, neither region 1 nor 2 contains any attractor.\n",
    "\n",
    "Next, consider region 4 and the LDOI of `{(apo,1)}`:"
   ]
  },
  {
   "cell_type": "code",
   "execution_count": 6,
   "id": "d8f4367f",
   "metadata": {},
   "outputs": [
    {
     "name": "stdout",
     "output_type": "stream",
     "text": [
      "logical domain of influence: {'apo': 1, 'cer': 0, 'disc': 0, 'fas': 0, 'flip': 0, 's1p': 0}\n",
      "contradiction boundary: {}\n"
     ]
    }
   ],
   "source": [
    "impa1,cona1 = sm.drivers.logical_domain_of_influence({'apo': 1},primes)\n",
    "print('logical domain of influence:',impa1)\n",
    "print('contradiction boundary:',cona1)"
   ]
  },
  {
   "cell_type": "markdown",
   "id": "c1bfb0fa",
   "metadata": {},
   "source": [
    "Because the LDOI fixes all variable values, region 4 contains this fixed point and no other attractors.\n",
    "\n",
    "Now, consider region 3, in which `apo=0`. The condition `cer & s1p = 0` can be satisfied for `s1p = 0` or for `cer = 0` (or both). We consider these two possibilities separately."
   ]
  },
  {
   "cell_type": "code",
   "execution_count": 7,
   "id": "1a081532",
   "metadata": {},
   "outputs": [
    {
     "name": "stdout",
     "output_type": "stream",
     "text": [
      "logical domain of influence (s1p=0):\n",
      " {'fas': 1, 'cer': 1, 'disc': 1, 'flip': 0, 's1p': 0}\n",
      "contradiction boundary (s1p=0):\n",
      " {'apo': 1}\n",
      "\n",
      "logical domain of influence (cer=0):\n",
      " {'s1p': 1, 'cer': 0, 'fas': 0, 'disc': 0, 'flip': 1, 'apo': 0}\n",
      "contradiction boundary (cer=0):\n",
      " {}\n"
     ]
    }
   ],
   "source": [
    "imps0,cons0 = sm.drivers.logical_domain_of_influence({'s1p': 0,'apo':0},primes)\n",
    "impc0,conc0 = sm.drivers.logical_domain_of_influence({'cer': 0,'apo':0},primes)\n",
    "print('logical domain of influence (s1p=0):\\n',imps0)\n",
    "print('contradiction boundary (s1p=0):\\n',cons0)\n",
    "print('\\nlogical domain of influence (cer=0):\\n',impc0)\n",
    "print('contradiction boundary (cer=0):\\n',conc0)"
   ]
  },
  {
   "cell_type": "markdown",
   "id": "4f24554b",
   "metadata": {},
   "source": [
    "Note that `{(s1p,0),(apo,0)}` has non-empty contradiction boundary. Therefore, region 3 cannot have an attractor with `s1p=0`.\n",
    "\n",
    "The set `{(cer,0),(apo,0)}` has a complete LDOI, and therefore, region 3 contains the corresponding steady state.\n",
    "\n",
    "Together, these statements imply that the steady state associated with the LDOI of `{(cer,0),(apo,0)}` is the only attractor in region 3.\n",
    "\n",
    "Therefore, the attractors of the system are given as follows:"
   ]
  },
  {
   "cell_type": "code",
   "execution_count": 8,
   "id": "ff0c98f3",
   "metadata": {},
   "outputs": [
    {
     "name": "stdout",
     "output_type": "stream",
     "text": [
      "{'apo': 1, 'cer': 0, 'disc': 0, 'fas': 0, 'flip': 0, 's1p': 0}\n",
      "{'s1p': 1, 'cer': 0, 'fas': 0, 'disc': 0, 'flip': 1, 'apo': 0}\n"
     ]
    }
   ],
   "source": [
    "print(impa1)\n",
    "print(impc0)"
   ]
  },
  {
   "cell_type": "code",
   "execution_count": null,
   "id": "dbac9ffd",
   "metadata": {},
   "outputs": [],
   "source": []
  }
 ],
 "metadata": {
  "kernelspec": {
   "display_name": "Python 3 (ipykernel)",
   "language": "python",
   "name": "python3"
  },
  "language_info": {
   "codemirror_mode": {
    "name": "ipython",
    "version": 3
   },
   "file_extension": ".py",
   "mimetype": "text/x-python",
   "name": "python",
   "nbconvert_exporter": "python",
   "pygments_lexer": "ipython3",
   "version": "3.9.6"
  }
 },
 "nbformat": 4,
 "nbformat_minor": 5
}
