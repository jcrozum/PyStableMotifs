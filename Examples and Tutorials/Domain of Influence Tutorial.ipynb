{
 "cells": [
  {
   "cell_type": "markdown",
   "metadata": {},
   "source": [
    "# Domain of influence tutorial "
   ]
  },
  {
   "cell_type": "markdown",
   "metadata": {},
   "source": [
    "This is a simple tutorial to demonstrate the usage of logical_domain_of_influence and domain_of_influence code. This includes:\n",
    "* Reading in a Boolean model\n",
    "* Finding the _domain of influence_ of a given source nodes"
   ]
  },
  {
   "cell_type": "code",
   "execution_count": 23,
   "metadata": {},
   "outputs": [],
   "source": [
    "import pystablemotifs as sm\n",
    "import pyboolnet\n",
    "from collections import namedtuple"
   ]
  },
  {
   "cell_type": "markdown",
   "metadata": {},
   "source": [
    "## Read in a Boolean model:"
   ]
  },
  {
   "cell_type": "markdown",
   "metadata": {},
   "source": [
    "Import Boolean rules from a plaintext file."
   ]
  },
  {
   "cell_type": "code",
   "execution_count": 4,
   "metadata": {},
   "outputs": [
    {
     "name": "stdout",
     "output_type": "stream",
     "text": [
      "ABA* = ABA\n",
      "CPK3_21* = Ca | CPK3_21\n",
      "Ca* = !Ca & ROS | ABA & !Ca\n",
      "Closure* = MPK9_12 & Microt_depoly & ROS & Vac_acid | CPK3_21 & Ca & Microt_depoly\n",
      "Depolarization* = ROS & Vac_acid | !Depolarization & Vac_acid | ABA & Vac_acid\n",
      "MPK9_12* = MPK9_12 | Ca\n",
      "Microt_depoly* = Microt_depoly | Ca\n",
      "ROS* = ROS & Vac_acid | Ca & Vac_acid\n",
      "Vac_acid* = Vac_acid | Ca | ABA\n"
     ]
    }
   ],
   "source": [
    "    primes = sm.format.import_primes('../models/ABA_reduced.txt')\n",
    "    sm.format.pretty_print_prime_rules(primes)"
   ]
  },
  {
   "cell_type": "markdown",
   "metadata": {},
   "source": [
    "## Finding the _domain of influence_ of a given source set"
   ]
  },
  {
   "cell_type": "markdown",
   "metadata": {},
   "source": [
    "A source set may contain any number of nodes with fixed value."
   ]
  },
  {
   "cell_type": "code",
   "execution_count": 5,
   "metadata": {},
   "outputs": [],
   "source": [
    "source_set = {'ABA':1}"
   ]
  },
  {
   "cell_type": "markdown",
   "metadata": {},
   "source": [
    "The logical_domain_of_influence function computes the logical domain of influence (LDOI) (see Yang et al. 2018).\n",
    "In general, the LDOI is a subset of the full domain of influence (DOI), but it is much more easily (and quickly) computed\n",
    "\n",
    "logical_domain_of_influence returns two dictionaries:\n",
    "the logical domain of influence of a source set and the contradiction boundary."
   ]
  },
  {
   "cell_type": "code",
   "execution_count": 16,
   "metadata": {},
   "outputs": [
    {
     "name": "stdout",
     "output_type": "stream",
     "text": [
      "({'ABA': 1, 'Vac_acid': 1, 'Depolarization': 1}, {})\n"
     ]
    }
   ],
   "source": [
    "LDOI = sm.drivers.logical_domain_of_influence(source_set,primes)\n",
    "print(LDOI)"
   ]
  },
  {
   "cell_type": "markdown",
   "metadata": {},
   "source": [
    "The domain_of_influence function computes the full domain of influence (DOI) of a given source set. It reduces the network using the given source set and its LDOI. The _attractor repertoire_ of the reduced network is computed and returned as 'attractor_repertoire.\n",
    "\n",
    "The DOI and the contradiction boundary are returned as 'implied' and 'contradicted'.\n",
    "In case when the attractors are uncertain due to computation limits, possible DOI and the possible contradiction boundaries are returned as 'possibly_implied' and 'possilbly_contradicted'."
   ]
  },
  {
   "cell_type": "code",
   "execution_count": 25,
   "metadata": {},
   "outputs": [
    {
     "name": "stdout",
     "output_type": "stream",
     "text": [
      "doi_data(implied={'ABA': 1, 'CPK3_21': 1, 'Closure': 1, 'Depolarization': 1, 'MPK9_12': 1, 'Microt_depoly': 1, 'ROS': 1, 'Vac_acid': 1}, contradicted={}, possibly_implied={}, possibly_contradicted={}, attractor_repertoire=<pystablemotifs.AttractorRepertoire.AttractorRepertoire object at 0x00000225354BB1C0>)\n"
     ]
    }
   ],
   "source": [
    "DOI = sm.drivers.domain_of_influence(source_set,primes)\n",
    "print(DOI)"
   ]
  },
  {
   "cell_type": "markdown",
   "metadata": {},
   "source": [
    "We can see that the LDOI and the DOI of {'ABA':1} is different. Notably, the sink node of the system 'Closure' is included in the DOI only. This implies that there can be an oscillation that fixes 'Closure'. Also note that the full attractor must include the values in the LDOI."
   ]
  },
  {
   "cell_type": "code",
   "execution_count": 28,
   "metadata": {},
   "outputs": [
    {
     "name": "stdout",
     "output_type": "stream",
     "text": [
      "There is 1 attractor.\n",
      "{'CPK3_21': 1, 'Ca': 'X', 'Closure': 1, 'MPK9_12': 1, 'Microt_depoly': 1, 'ROS': 1}\n",
      "\n"
     ]
    }
   ],
   "source": [
    "DOI.attractor_repertoire.summary()"
   ]
  },
  {
   "cell_type": "markdown",
   "metadata": {},
   "source": [
    "### Additional options"
   ]
  },
  {
   "cell_type": "markdown",
   "metadata": {},
   "source": [
    "It is possible to put a simulation limit when finding the attractor repertoire or use MPBN update instead of general asynchronous update."
   ]
  },
  {
   "cell_type": "code",
   "execution_count": null,
   "metadata": {},
   "outputs": [],
   "source": []
  }
 ],
 "metadata": {
  "kernelspec": {
   "display_name": "Python 3 (ipykernel)",
   "language": "python",
   "name": "python3"
  },
  "language_info": {
   "codemirror_mode": {
    "name": "ipython",
    "version": 3
   },
   "file_extension": ".py",
   "mimetype": "text/x-python",
   "name": "python",
   "nbconvert_exporter": "python",
   "pygments_lexer": "ipython3",
   "version": "3.9.5"
  }
 },
 "nbformat": 4,
 "nbformat_minor": 4
}
