{
 "cells": [
  {
   "cell_type": "markdown",
   "id": "b1c13caa",
   "metadata": {},
   "source": [
    "# Control tutorial"
   ]
  },
  {
   "cell_type": "code",
   "execution_count": 1,
   "id": "da6b82f8",
   "metadata": {},
   "outputs": [],
   "source": [
    "import pystablemotifs as sm\n",
    "import networkx as nx\n",
    "from timeit import default_timer"
   ]
  },
  {
   "cell_type": "markdown",
   "id": "ce0ff5dd",
   "metadata": {},
   "source": [
    "## Load network and find attractors\n",
    "See the Basic Usage Tutorial for further details."
   ]
  },
  {
   "cell_type": "code",
   "execution_count": 2,
   "id": "33d4cbe2",
   "metadata": {},
   "outputs": [
    {
     "name": "stdout",
     "output_type": "stream",
     "text": [
      "A20* = NFKB\n",
      "Apoptosis* = Caspase\n",
      "BID* = !BclxL & GZMB & !MCL1 | !BclxL & Caspase & !MCL1\n",
      "BclxL* = !BID & !DISC & !GZMB & STAT3 | !BID & !DISC & !GZMB & NFKB\n",
      "CREB* = ERK & IFNG\n",
      "CTLA4* = TCR\n",
      "Caspase* = BID & !IAP & TRADD | BID & GZMB & !IAP | DISC\n",
      "Ceramide* = Fas & !S1P\n",
      "Cytoskeleton_signaling* = FYN\n",
      "DISC* = Fas & FasT & IL2 | !FLIP & Fas & FasT | Ceramide & FasT\n",
      "ERK* = MEK & PI3K\n",
      "FLIP* = CREB & !DISC & IFNG | !DISC & NFKB\n",
      "FYN* = TCR | IL2RB\n",
      "Fas* = FasL & FasT & !sFas\n",
      "FasL* = STAT3 | NFKB | NFAT | ERK\n",
      "FasT* = NFKB\n",
      "GPCR* = S1P\n",
      "GRB2* = ZAP70 | IL2RB\n",
      "GZMB* = CREB & IFNG | TBET\n",
      "IAP* = !BID & NFKB\n",
      "IFNG* = IFNGT & !P2 & !SMAD | IFNGT & IL2 & !P2 & !SMAD\n",
      "IFNGT* = TBET | STAT3 | NFAT\n",
      "IL2* = STAT3 & !TBET | NFKB & !TBET | NFAT & !TBET\n",
      "IL2RA* = IL2 & !IL2RA & IL2RAT\n",
      "IL2RAT* = IL2 & STAT3 | IL2 & NFKB\n",
      "IL2RB* = IL2 & IL2RBT | IL2RBT\n",
      "IL2RBT* = ERK & TBET\n",
      "JAK* = RANTES | IL2RB | IL2RA | IFNG\n",
      "LCK* = TCR & !ZAP70 | IL2RB & !ZAP70\n",
      "MCL1* = !DISC & IL2RB & NFKB & PI3K & STAT3\n",
      "MEK* = RAS\n",
      "NFAT* = PI3K\n",
      "NFKB* = FLIP & IAP & TRADD | TPL2 | PI3K\n",
      "P2* = P2 | IFNG\n",
      "P27* = STAT3\n",
      "PDGFR* = S1P\n",
      "PI3K* = RAS | PDGFR\n",
      "PLCG1* = PDGFR | GRB2\n",
      "Proliferation* = !P27 & STAT3\n",
      "RANTES* = NFKB\n",
      "RAS* = PLCG1 | GRB2\n",
      "S1P* = !Ceramide & SPHK1\n",
      "SMAD* = GPCR\n",
      "SPHK1* = PDGFR\n",
      "STAT3* = JAK\n",
      "TBET* = TBET | JAK\n",
      "TCR* = !CTLA4\n",
      "TNF* = NFKB\n",
      "TPL2* = PI3K & TNF\n",
      "TRADD* = !A20 & !IAP & TNF\n",
      "ZAP70* = !FYN & LCK\n",
      "sFas* = FasT & S1P\n"
     ]
    }
   ],
   "source": [
    "primes = sm.format.import_primes('../models/TLGL_fixed-inputs.txt',remove_constants=True)\n",
    "sm.format.pretty_print_prime_rules(primes)"
   ]
  },
  {
   "cell_type": "code",
   "execution_count": 3,
   "id": "a881424f",
   "metadata": {},
   "outputs": [
    {
     "name": "stdout",
     "output_type": "stream",
     "text": [
      "There are 3 attractors.\n",
      "{'A20': 1, 'Apoptosis': 1, 'BID': 1, 'BclxL': 0, 'CREB': 0, 'CTLA4': 'X', 'Caspase': 1, 'Ceramide': 1, 'Cytoskeleton_signaling': 1, 'DISC': 1, 'ERK': 1, 'FLIP': 0, 'FYN': 1, 'Fas': 1, 'FasL': 1, 'FasT': 1, 'GPCR': 0, 'GRB2': 1, 'GZMB': 1, 'IAP': 0, 'IFNG': 0, 'IFNGT': 1, 'IL2': 0, 'IL2RA': 0, 'IL2RAT': 0, 'IL2RB': 1, 'IL2RBT': 1, 'JAK': 1, 'LCK': 1, 'MCL1': 0, 'MEK': 1, 'NFAT': 1, 'NFKB': 1, 'P2': 1, 'P27': 1, 'PDGFR': 0, 'PI3K': 1, 'PLCG1': 1, 'Proliferation': 0, 'RANTES': 1, 'RAS': 1, 'S1P': 0, 'SMAD': 0, 'SPHK1': 0, 'STAT3': 1, 'TBET': 1, 'TCR': 'X', 'TNF': 1, 'TPL2': 1, 'TRADD': 0, 'ZAP70': 0, 'sFas': 0}\n",
      "\n",
      "{'A20': 1, 'Apoptosis': 0, 'BID': 0, 'BclxL': 0, 'CREB': 0, 'CTLA4': 'X', 'Caspase': 0, 'Ceramide': 0, 'Cytoskeleton_signaling': 1, 'DISC': 0, 'ERK': 1, 'FLIP': 1, 'FYN': 1, 'Fas': 0, 'FasL': 1, 'FasT': 1, 'GPCR': 1, 'GRB2': 1, 'GZMB': 1, 'IAP': 1, 'IFNG': 0, 'IFNGT': 1, 'IL2': 0, 'IL2RA': 0, 'IL2RAT': 0, 'IL2RB': 1, 'IL2RBT': 1, 'JAK': 1, 'LCK': 1, 'MCL1': 1, 'MEK': 1, 'NFAT': 1, 'NFKB': 1, 'P2': 1, 'P27': 1, 'PDGFR': 1, 'PI3K': 1, 'PLCG1': 1, 'Proliferation': 0, 'RANTES': 1, 'RAS': 1, 'S1P': 1, 'SMAD': 1, 'SPHK1': 1, 'STAT3': 1, 'TBET': 1, 'TCR': 'X', 'TNF': 1, 'TPL2': 1, 'TRADD': 0, 'ZAP70': 0, 'sFas': 1}\n",
      "\n",
      "{'A20': 1, 'Apoptosis': 0, 'BID': 0, 'BclxL': 0, 'CREB': 0, 'CTLA4': 'X', 'Caspase': 0, 'Ceramide': 0, 'Cytoskeleton_signaling': 1, 'DISC': 0, 'ERK': 1, 'FLIP': 1, 'FYN': 1, 'Fas': 0, 'FasL': 1, 'FasT': 1, 'GPCR': 1, 'GRB2': 1, 'GZMB': 1, 'IAP': 1, 'IFNG': 0, 'IFNGT': 1, 'IL2': 0, 'IL2RA': 0, 'IL2RAT': 0, 'IL2RB': 1, 'IL2RBT': 1, 'JAK': 1, 'LCK': 1, 'MCL1': 1, 'MEK': 1, 'NFAT': 1, 'NFKB': 1, 'P2': 0, 'P27': 1, 'PDGFR': 1, 'PI3K': 1, 'PLCG1': 1, 'Proliferation': 0, 'RANTES': 1, 'RAS': 1, 'S1P': 1, 'SMAD': 1, 'SPHK1': 1, 'STAT3': 1, 'TBET': 1, 'TCR': 'X', 'TNF': 1, 'TPL2': 1, 'TRADD': 0, 'ZAP70': 0, 'sFas': 1}\n",
      "\n"
     ]
    }
   ],
   "source": [
    "ar = sm.AttractorRepertoire.from_primes(primes)\n",
    "ar.summary()"
   ]
  },
  {
   "cell_type": "markdown",
   "id": "ead96384",
   "metadata": {},
   "source": [
    "## Define a control target\n",
    "Select a set of node values that we wish to drive the system toward. In this example, we specify a set of nodes (of size 1), namely `Apoptosis=1`, that uniquely identifies an attractor. This is not necessary in general (however, the succession-based methods require that the target is consistent with at least one attractor)."
   ]
  },
  {
   "cell_type": "code",
   "execution_count": 4,
   "id": "88f8b203",
   "metadata": {},
   "outputs": [],
   "source": [
    "target = {'Apoptosis':1}"
   ]
  },
  {
   "cell_type": "markdown",
   "id": "11739af4",
   "metadata": {},
   "source": [
    "## Search for knockins/knockouts that achieve the target"
   ]
  },
  {
   "cell_type": "markdown",
   "id": "427faf82",
   "metadata": {},
   "source": [
    "### Brute-force \n",
    "The `max_drivers` parameter limits our search to a maximum number of concurrent interventions.\n",
    "Note that the brute force approach scales poorly with the size of the network and unless a value is specified for every variable, it does not guarantee convergence to an attractor. Therefore, the intervention must be permanent in general."
   ]
  },
  {
   "cell_type": "code",
   "execution_count": 5,
   "id": "09428643",
   "metadata": {},
   "outputs": [
    {
     "name": "stdout",
     "output_type": "stream",
     "text": [
      "Time running method: 0.8831895999999997\n",
      "Sets found:\n",
      "{'Apoptosis': 1}\n",
      "{'Caspase': 1}\n",
      "{'DISC': 1}\n",
      "{'RAS': 0, 'S1P': 1}\n",
      "{'RAS': 1, 'S1P': 0}\n",
      "{'IL2RBT': 0, 'RAS': 1}\n",
      "{'RAS': 1, 'STAT3': 0}\n",
      "{'MEK': 0, 'RAS': 1}\n",
      "{'RAS': 0, 'TPL2': 1}\n",
      "{'RAS': 0, 'TBET': 1}\n",
      "{'Ceramide': 1, 'RAS': 1}\n",
      "{'MCL1': 0, 'RAS': 1}\n",
      "{'BID': 1, 'RAS': 1}\n",
      "{'RANTES': 1, 'RAS': 0}\n",
      "{'GZMB': 1, 'RAS': 0}\n",
      "{'PI3K': 1, 'RAS': 0}\n",
      "{'ERK': 0, 'RAS': 1}\n",
      "{'NFKB': 1, 'RAS': 0}\n",
      "{'JAK': 1, 'RAS': 0}\n",
      "{'RAS': 1, 'SPHK1': 0}\n",
      "{'IL2RA': 1, 'RAS': 0}\n",
      "{'IFNG': 1, 'RAS': 0}\n",
      "{'PDGFR': 1, 'RAS': 0}\n",
      "{'PDGFR': 0, 'RAS': 1}\n",
      "{'IL2RB': 0, 'RAS': 1}\n",
      "{'IL2RBT': 1, 'S1P': 0}\n",
      "{'IL2RBT': 0, 'S1P': 1}\n",
      "{'S1P': 1, 'STAT3': 0}\n",
      "{'MEK': 0, 'S1P': 1}\n",
      "{'S1P': 0, 'TPL2': 1}\n",
      "{'Ceramide': 1, 'S1P': 1}\n",
      "{'MCL1': 0, 'S1P': 1}\n",
      "{'S1P': 0, 'ZAP70': 1}\n",
      "{'BID': 1, 'S1P': 1}\n",
      "{'GRB2': 1, 'S1P': 0}\n",
      "{'PLCG1': 1, 'S1P': 0}\n",
      "{'PI3K': 1, 'S1P': 0}\n",
      "{'ERK': 0, 'S1P': 1}\n",
      "{'NFKB': 1, 'S1P': 0}\n",
      "{'PDGFR': 1, 'S1P': 0}\n",
      "{'IL2RB': 1, 'S1P': 0}\n",
      "{'IL2RB': 0, 'S1P': 1}\n",
      "{'IL2RBT': 1, 'STAT3': 0}\n",
      "{'IL2RBT': 0, 'TPL2': 1}\n",
      "{'IL2RBT': 0, 'TBET': 1}\n",
      "{'Ceramide': 1, 'IL2RBT': 1}\n",
      "{'IL2RBT': 1, 'MCL1': 0}\n",
      "{'IL2RBT': 0, 'ZAP70': 1}\n",
      "{'BID': 1, 'IL2RBT': 1}\n",
      "{'GRB2': 1, 'IL2RBT': 0}\n",
      "{'IL2RBT': 0, 'RANTES': 1}\n",
      "{'IL2RBT': 0, 'PLCG1': 1}\n",
      "{'GZMB': 1, 'IL2RBT': 0}\n",
      "{'IL2RBT': 0, 'PI3K': 1}\n",
      "{'IL2RBT': 1, 'PI3K': 0}\n",
      "{'IL2RBT': 0, 'NFKB': 1}\n",
      "{'IL2RBT': 1, 'NFKB': 0}\n",
      "{'IL2RBT': 0, 'JAK': 1}\n",
      "{'IL2RBT': 1, 'SPHK1': 0}\n",
      "{'IL2RA': 1, 'IL2RBT': 0}\n",
      "{'IFNG': 1, 'IL2RBT': 0}\n",
      "{'IL2RBT': 0, 'PDGFR': 1}\n",
      "{'IL2RBT': 1, 'PDGFR': 0}\n",
      "{'STAT3': 0, 'TPL2': 1}\n",
      "{'STAT3': 0, 'TBET': 1}\n",
      "{'STAT3': 0, 'ZAP70': 1}\n",
      "{'GRB2': 1, 'STAT3': 0}\n",
      "{'RANTES': 1, 'STAT3': 0}\n",
      "{'PLCG1': 1, 'STAT3': 0}\n",
      "{'GZMB': 1, 'STAT3': 0}\n",
      "{'PI3K': 1, 'STAT3': 0}\n",
      "{'NFKB': 1, 'STAT3': 0}\n",
      "{'JAK': 1, 'STAT3': 0}\n",
      "{'IL2RA': 1, 'STAT3': 0}\n",
      "{'IFNG': 1, 'STAT3': 0}\n",
      "{'PDGFR': 1, 'STAT3': 0}\n",
      "{'IL2RB': 1, 'STAT3': 0}\n",
      "{'MEK': 0, 'TPL2': 1}\n",
      "{'MEK': 0, 'TBET': 1}\n",
      "{'MEK': 0, 'ZAP70': 1}\n",
      "{'GRB2': 1, 'MEK': 0}\n",
      "{'MEK': 0, 'RANTES': 1}\n",
      "{'MEK': 0, 'PLCG1': 1}\n",
      "{'GZMB': 1, 'MEK': 0}\n",
      "{'MEK': 0, 'PI3K': 1}\n",
      "{'MEK': 0, 'NFKB': 1}\n",
      "{'JAK': 1, 'MEK': 0}\n",
      "{'IL2RA': 1, 'MEK': 0}\n",
      "{'IFNG': 1, 'MEK': 0}\n",
      "{'MEK': 0, 'PDGFR': 1}\n",
      "{'Ceramide': 1, 'TPL2': 1}\n",
      "{'MCL1': 0, 'TPL2': 1}\n",
      "{'BID': 1, 'TPL2': 1}\n",
      "{'PI3K': 0, 'TPL2': 1}\n",
      "{'ERK': 0, 'TPL2': 1}\n",
      "{'SPHK1': 0, 'TPL2': 1}\n",
      "{'PDGFR': 0, 'TPL2': 1}\n",
      "{'IL2RB': 0, 'TPL2': 1}\n",
      "{'MCL1': 0, 'TBET': 1}\n",
      "{'BID': 1, 'TBET': 1}\n",
      "{'GZMB': 1, 'TBET': 0}\n",
      "{'PI3K': 0, 'TBET': 1}\n",
      "{'ERK': 0, 'TBET': 1}\n",
      "{'NFKB': 0, 'TBET': 1}\n",
      "{'JAK': 0, 'TBET': 1}\n",
      "{'IL2RB': 0, 'TBET': 1}\n",
      "{'Ceramide': 1, 'ZAP70': 1}\n",
      "{'Ceramide': 1, 'GRB2': 1}\n",
      "{'Ceramide': 1, 'PLCG1': 1}\n",
      "{'Ceramide': 1, 'PI3K': 1}\n",
      "{'Ceramide': 1, 'NFKB': 1}\n",
      "{'Ceramide': 1, 'PDGFR': 1}\n",
      "{'Ceramide': 1, 'IL2RB': 1}\n",
      "{'Ceramide': 1, 'FasT': 1}\n",
      "{'MCL1': 0, 'ZAP70': 1}\n",
      "{'GRB2': 1, 'MCL1': 0}\n",
      "{'MCL1': 0, 'RANTES': 1}\n",
      "{'MCL1': 0, 'PLCG1': 1}\n",
      "{'GZMB': 1, 'MCL1': 0}\n",
      "{'MCL1': 0, 'PI3K': 1}\n",
      "{'MCL1': 0, 'NFKB': 1}\n",
      "{'JAK': 1, 'MCL1': 0}\n",
      "{'IL2RA': 1, 'MCL1': 0}\n",
      "{'IFNG': 1, 'MCL1': 0}\n",
      "{'MCL1': 0, 'PDGFR': 1}\n",
      "{'IL2RB': 1, 'MCL1': 0}\n",
      "{'BID': 1, 'ZAP70': 1}\n",
      "{'ERK': 0, 'ZAP70': 1}\n",
      "{'SPHK1': 0, 'ZAP70': 1}\n",
      "{'PDGFR': 0, 'ZAP70': 1}\n",
      "{'IL2RB': 0, 'ZAP70': 1}\n",
      "{'BID': 1, 'GRB2': 1}\n",
      "{'BID': 1, 'RANTES': 1}\n",
      "{'BID': 1, 'TRADD': 1}\n",
      "{'BID': 1, 'PLCG1': 1}\n",
      "{'BID': 1, 'GZMB': 1}\n",
      "{'BID': 1, 'PI3K': 1}\n",
      "{'BID': 1, 'NFKB': 1}\n",
      "{'BID': 1, 'JAK': 1}\n",
      "{'BID': 1, 'IL2RA': 1}\n",
      "{'BID': 1, 'IFNG': 1}\n",
      "{'BID': 1, 'PDGFR': 1}\n",
      "{'BID': 1, 'IL2RB': 1}\n",
      "{'ERK': 0, 'GRB2': 1}\n",
      "{'GRB2': 1, 'SPHK1': 0}\n",
      "{'GRB2': 1, 'PDGFR': 0}\n",
      "{'GRB2': 1, 'IL2RB': 0}\n",
      "{'PI3K': 0, 'RANTES': 1}\n",
      "{'ERK': 0, 'RANTES': 1}\n",
      "{'NFKB': 0, 'RANTES': 1}\n",
      "{'IL2RB': 0, 'RANTES': 1}\n",
      "{'ERK': 0, 'PLCG1': 1}\n",
      "{'PLCG1': 1, 'SPHK1': 0}\n",
      "{'PDGFR': 0, 'PLCG1': 1}\n",
      "{'IL2RB': 0, 'PLCG1': 1}\n",
      "{'GZMB': 1, 'PI3K': 0}\n",
      "{'ERK': 0, 'GZMB': 1}\n",
      "{'GZMB': 1, 'NFKB': 0}\n",
      "{'GZMB': 1, 'JAK': 0}\n",
      "{'GZMB': 1, 'IL2RB': 0}\n",
      "{'ERK': 0, 'PI3K': 1}\n",
      "{'NFKB': 1, 'PI3K': 0}\n",
      "{'JAK': 1, 'PI3K': 0}\n",
      "{'PI3K': 1, 'SPHK1': 0}\n",
      "{'IL2RA': 1, 'PI3K': 0}\n",
      "{'IFNG': 1, 'PI3K': 0}\n",
      "{'PDGFR': 0, 'PI3K': 1}\n",
      "{'IL2RB': 1, 'PI3K': 0}\n",
      "{'IL2RB': 0, 'PI3K': 1}\n",
      "{'ERK': 0, 'NFKB': 1}\n",
      "{'ERK': 0, 'JAK': 1}\n",
      "{'ERK': 0, 'IL2RA': 1}\n",
      "{'ERK': 0, 'IFNG': 1}\n",
      "{'ERK': 0, 'PDGFR': 1}\n",
      "{'JAK': 1, 'NFKB': 0}\n",
      "{'NFKB': 1, 'SPHK1': 0}\n",
      "{'IL2RA': 1, 'NFKB': 0}\n",
      "{'IFNG': 1, 'NFKB': 0}\n",
      "{'NFKB': 1, 'PDGFR': 0}\n",
      "{'IL2RB': 1, 'NFKB': 0}\n",
      "{'IL2RB': 0, 'NFKB': 1}\n",
      "{'IL2RB': 0, 'JAK': 1}\n",
      "{'PDGFR': 1, 'SPHK1': 0}\n",
      "{'IL2RB': 1, 'SPHK1': 0}\n",
      "{'IL2RA': 1, 'IL2RB': 0}\n",
      "{'IFNG': 1, 'IL2RB': 0}\n",
      "{'IL2RB': 1, 'PDGFR': 0}\n",
      "{'IL2RB': 0, 'PDGFR': 1}\n"
     ]
    }
   ],
   "source": [
    "start=default_timer()\n",
    "interventions = sm.drivers.knock_to_partial_state(target,primes,max_drivers=2)\n",
    "end=default_timer()\n",
    "print(\"Time running method:\",end-start)\n",
    "print(\"Sets found:\")\n",
    "for x in interventions: \n",
    "    print({k:v for k,v in sorted(x.items())})"
   ]
  },
  {
   "cell_type": "markdown",
   "id": "7ebb2598",
   "metadata": {},
   "source": [
    "### Grasp search\n",
    "Here we use a heuristic approach to search for drivers that achieve the target. The `GRASP_iterations` parameter controls how many heuristic searches are performed."
   ]
  },
  {
   "cell_type": "code",
   "execution_count": 6,
   "id": "9d5b4b16",
   "metadata": {},
   "outputs": [
    {
     "name": "stdout",
     "output_type": "stream",
     "text": [
      "Time running method: 1.0311886000000001\n",
      "Sets found:\n",
      "{'Caspase': 1}\n",
      "{'DISC': 1}\n",
      "{'NFKB': 1, 'S1P': 0}\n",
      "{'PI3K': 0, 'TBET': 1}\n",
      "{'Ceramide': 1, 'IL2RB': 1}\n",
      "{'NFKB': 0, 'RANTES': 1}\n",
      "{'NFKB': 1, 'PI3K': 0}\n",
      "{'GRB2': 1, 'SPHK1': 0}\n",
      "{'IL2RBT': 1, 'SPHK1': 0}\n",
      "{'PDGFR': 0, 'PLCG1': 1}\n",
      "{'NFKB': 0, 'TBET': 1}\n",
      "{'ERK': 0, 'TPL2': 1}\n",
      "{'S1P': 0, 'ZAP70': 1}\n",
      "{'IL2RA': 1, 'MEK': 0}\n",
      "{'JAK': 1, 'NFKB': 0}\n",
      "{'JAK': 1, 'PI3K': 0}\n",
      "{'Ceramide': 1, 'GRB2': 1}\n",
      "{'IFNG': 1, 'JAK': 0, 'ZAP70': 1}\n",
      "{'IL2RBT': 1, 'NFKB': 0}\n",
      "{'PLCG1': 1, 'SPHK1': 0}\n",
      "{'IL2RB': 1, 'STAT3': 0}\n",
      "{'NFKB': 1, 'PDGFR': 0}\n",
      "{'PDGFR': 0, 'TPL2': 1}\n",
      "{'PI3K': 0, 'RANTES': 1}\n",
      "{'IFNG': 1, 'MEK': 0}\n",
      "{'IL2RBT': 1, 'PDGFR': 0}\n",
      "{'Ceramide': 1, 'RAS': 1}\n",
      "{'IL2RA': 1, 'RAS': 0}\n",
      "{'IFNG': 1, 'NFKB': 0}\n",
      "{'IL2RB': 1, 'PDGFR': 0}\n",
      "{'PDGFR': 0, 'RAS': 1}\n",
      "{'Ceramide': 1, 'IL2RBT': 1}\n",
      "{'IFNG': 1, 'RAS': 0}\n",
      "{'IL2RB': 1, 'PI3K': 0}\n",
      "{'CTLA4': 0, 'IL2RA': 1, 'MEK': 0}\n",
      "{'IL2RB': 1, 'SPHK1': 0}\n",
      "{'ERK': 0, 'PLCG1': 1}\n",
      "{'ERK': 0, 'TBET': 1}\n",
      "{'PI3K': 1, 'RAS': 0}\n",
      "{'RAS': 0, 'TBET': 1}\n",
      "{'ERK': 0, 'PDGFR': 1}\n",
      "{'MEK': 0, 'PLCG1': 1}\n",
      "{'GZMB': 1, 'IL2RBT': 0}\n",
      "{'ERK': 0, 'RANTES': 1}\n",
      "{'RAS': 1, 'SPHK1': 0}\n",
      "{'Ceramide': 1, 'PI3K': 1}\n",
      "{'RAS': 1, 'S1P': 0}\n",
      "{'IL2RB': 1, 'NFKB': 0}\n",
      "{'IL2RA': 1, 'NFKB': 0}\n",
      "{'JAK': 0, 'NFKB': 0, 'RAS': 0, 'STAT3': 0, 'TPL2': 1}\n",
      "{'SPHK1': 0, 'ZAP70': 1}\n",
      "{'ERK': 0, 'IL2RA': 1}\n",
      "{'MEK': 0, 'PI3K': 1}\n",
      "{'Ceramide': 1, 'NFKB': 1}\n",
      "{'IL2RB': 1, 'S1P': 0}\n",
      "{'Ceramide': 1, 'ZAP70': 1}\n",
      "{'MEK': 0, 'TPL2': 1}\n",
      "{'PI3K': 0, 'TPL2': 1}\n",
      "{'Ceramide': 1, 'PDGFR': 1}\n",
      "{'RANTES': 1, 'RAS': 0}\n",
      "{'PDGFR': 1, 'PI3K': 1, 'RANTES': 1, 'S1P': 0, 'TCR': 1}\n",
      "{'MEK': 0, 'RAS': 1}\n",
      "{'JAK': 1, 'MEK': 0}\n",
      "{'S1P': 1, 'STAT3': 0}\n",
      "{'BID': 1, 'TBET': 1}\n",
      "{'NFKB': 1, 'SPHK1': 0}\n",
      "{'ERK': 0, 'NFKB': 1}\n",
      "{'IL2RBT': 0, 'NFKB': 1}\n",
      "{'STAT3': 0, 'TBET': 1}\n",
      "{'ERK': 0, 'S1P': 1}\n",
      "{'ERK': 0, 'IFNG': 1}\n",
      "{'GRB2': 1, 'PDGFR': 0}\n",
      "{'Ceramide': 1, 'S1P': 1}\n",
      "{'GRB2': 1, 'STAT3': 0}\n",
      "{'NFKB': 1, 'RAS': 0}\n",
      "{'IFNG': 1, 'PI3K': 0}\n",
      "{'PDGFR': 1, 'SPHK1': 0}\n",
      "{'Ceramide': 1, 'PLCG1': 1}\n",
      "{'ERK': 0, 'GPCR': 1, 'JAK': 1}\n",
      "{'JAK': 1, 'PDGFR': 1, 'PLCG1': 1, 'RAS': 1, 'S1P': 0}\n",
      "{'IL2RBT': 1, 'PI3K': 0}\n",
      "{'S1P': 0, 'TPL2': 1}\n",
      "{'MEK': 0, 'TBET': 1}\n",
      "{'JAK': 0, 'TBET': 1}\n",
      "{'Ceramide': 1, 'TPL2': 1}\n",
      "{'PLCG1': 1, 'S1P': 0}\n",
      "{'PI3K': 1, 'SPHK1': 0}\n"
     ]
    }
   ],
   "source": [
    "GRASP_iterations=2000\n",
    "start=default_timer()\n",
    "interventions = sm.drivers.GRASP(target,ar.primes,GRASP_iterations)\n",
    "end=default_timer()\n",
    "print(\"Time running method:\",end-start)\n",
    "print(\"Sets found:\")\n",
    "for x in interventions: \n",
    "    print({k:v for k,v in sorted(x.items())})"
   ]
  },
  {
   "cell_type": "markdown",
   "id": "6a7f91fe",
   "metadata": {},
   "source": [
    "### Internal history\n",
    "In this method, all succession diagram pathways that are consistent with the target are identified. At each branch point in the succession diagram, the desired target stable motif is searched for internal driver node sets that drive the system into a narrower trap space containing the target. All possible paths are considered. All interventions can be permanent or temporary. Convergence to a consistent attractor (if it exists) is guaranteed."
   ]
  },
  {
   "cell_type": "code",
   "execution_count": 7,
   "id": "b3defbb6",
   "metadata": {},
   "outputs": [
    {
     "name": "stdout",
     "output_type": "stream",
     "text": [
      "\n",
      "Time running method: 0.03943769999999969\n",
      "Sets found:\n",
      "{'PDGFR': 0}\n",
      "{'SPHK1': 0}\n",
      "{'S1P': 0}\n",
      "{'Ceramide': 1, 'IL2RB': 1, 'TBET': 1}\n",
      "{'Ceramide': 1, 'GRB2': 1, 'TBET': 1}\n",
      "{'Ceramide': 1, 'IL2RBT': 1, 'TBET': 1}\n",
      "{'Ceramide': 1, 'ERK': 1, 'TBET': 1}\n",
      "{'Ceramide': 1, 'RAS': 1, 'TBET': 1}\n",
      "{'Ceramide': 1, 'MEK': 1, 'PI3K': 1, 'TBET': 1}\n"
     ]
    }
   ],
   "source": [
    "start=default_timer()\n",
    "interventions = ar.reprogram_to_trap_spaces(target,\n",
    "                                            target_method='history',\n",
    "                                            driver_method='internal')\n",
    "end=default_timer()\n",
    "print()\n",
    "print(\"Time running method:\",end-start)\n",
    "print(\"Sets found:\")\n",
    "for x in interventions: print({k:v for k,v in sorted(x.items())})"
   ]
  },
  {
   "cell_type": "markdown",
   "id": "a92b8007",
   "metadata": {},
   "source": [
    "### Minimal history\n",
    "This method also selects drivers for target stable motifs at each succession diagram branch point. It differs from the previous method in that it does not require these drivers to all be internal to each stable motif. This allows the method to uncover more parsimonious interventions at the cost of increase computational burden. It may identify interventions that are inconsistent with the target; such interventions *must* be temporary (e.g., temporary administration of a drug)."
   ]
  },
  {
   "cell_type": "code",
   "execution_count": 8,
   "id": "477f66a2",
   "metadata": {},
   "outputs": [
    {
     "name": "stdout",
     "output_type": "stream",
     "text": [
      "\n",
      "Time running method: 0.02927059999999937\n",
      "Sets found:\n",
      "---\n",
      "One temporary intervention from each list, in order.\n",
      "(1 interventions in total)\n",
      "[{'S1P': 0}, {'Ceramide': 1}, {'SPHK1': 0}, {'PDGFR': 0}] \n",
      "\n"
     ]
    }
   ],
   "source": [
    "start=default_timer()\n",
    "interventions = ar.reprogram_to_trap_spaces(target,\n",
    "                                            target_method='history',\n",
    "                                            driver_method='minimal')\n",
    "end=default_timer()\n",
    "print()\n",
    "print(\"Time running method:\",end-start)\n",
    "print(\"Sets found:\")\n",
    "for x in interventions: \n",
    "    print(\"---\")\n",
    "    print(\"One temporary intervention from each list, in order.\")\n",
    "    print(\"(\"+str(len(x))+\" interventions in total)\")\n",
    "    for y in x: print(y,\"\\n\")"
   ]
  },
  {
   "cell_type": "markdown",
   "id": "10aad6ab",
   "metadata": {},
   "source": [
    "### GRASP history\n",
    "This method is like the two above, but the driver search is conducted using a heuristic approach. This is most useful in extremely large networks. The benefit of the GRASP method is that it does not consider all possible variable combinations, and can therefore consider larger driver sets with comparitively little additional computational burden."
   ]
  },
  {
   "cell_type": "code",
   "execution_count": 9,
   "id": "9a63ddd1",
   "metadata": {},
   "outputs": [
    {
     "name": "stdout",
     "output_type": "stream",
     "text": [
      "\n",
      "Time running method: 0.5020872000000001\n",
      "Sets found:\n",
      "---\n",
      "One temporary intervention from each list, in order.\n",
      "(1 interventions in total)\n",
      "[{'Ceramide': 1}, {'PDGFR': 0}, {'SPHK1': 0}, {'S1P': 0}] \n",
      "\n"
     ]
    }
   ],
   "source": [
    "start=default_timer()\n",
    "interventions = ar.reprogram_to_trap_spaces(target,\n",
    "                                            target_method='history',\n",
    "                                            driver_method='GRASP',\n",
    "                                            GRASP_iterations=500)\n",
    "end=default_timer()\n",
    "print()\n",
    "print(\"Time running method:\",end-start)\n",
    "print(\"Sets found:\")\n",
    "for x in interventions: \n",
    "    print(\"---\")\n",
    "    print(\"One temporary intervention from each list, in order.\")\n",
    "    print(\"(\"+str(len(x))+\" interventions in total)\")\n",
    "    for y in x: print(y,\"\\n\")"
   ]
  },
  {
   "cell_type": "markdown",
   "id": "fceb71fa",
   "metadata": {},
   "source": [
    "### Minimal merge\n",
    "In this method, all minimal trap spaces containing only attractors consistent with the target are found, and a brute force search is conducted to identify interventions of minimal size that drive the system into these trap spaces. Unlike the brute-force method, it does not require that the intervention be permanent. Interventions that are inconsistent with the target *must* be temporary. Generally, this method is slower than others, but also finds the most parsimonious interventions. The worst-case computation time grows rapidly with the `max_drivers` parameter, as all possible sets of variables up to this size can be considered."
   ]
  },
  {
   "cell_type": "code",
   "execution_count": 10,
   "id": "9f93d027",
   "metadata": {},
   "outputs": [
    {
     "name": "stdout",
     "output_type": "stream",
     "text": [
      "\n",
      "Time running method: 0.5551366\n",
      "Sets found:\n",
      "{'S1P': 0}\n",
      "{'Ceramide': 1}\n",
      "{'SPHK1': 0}\n",
      "{'PDGFR': 0}\n"
     ]
    }
   ],
   "source": [
    "start=default_timer()\n",
    "interventions = ar.reprogram_to_trap_spaces(target,\n",
    "                                            target_method='merge',\n",
    "                                            driver_method='minimal',\n",
    "                                            max_drivers=4)\n",
    "end=default_timer()\n",
    "print()\n",
    "print(\"Time running method:\",end-start)\n",
    "print(\"Sets found:\")\n",
    "for x in interventions: print(x)"
   ]
  },
  {
   "cell_type": "markdown",
   "id": "582a26bf",
   "metadata": {},
   "source": [
    "### Internal merge\n",
    "This method is like the above, but it only considers interventions that are internal to the stable motifs that constitute the trap spaces under consideration. Typically, this is faster, but it has the potential to overlook some interventions. Interventions can be temporary or permanent. As with the previous method, the worst-case computation time grows rapidly with the `max_drivers` parameter; however rather than considering combinations of all variables, this method considers only combinations of variables that belong to the stable motifs that make up the target trap space. Therefore, the scaling is better than the previous method."
   ]
  },
  {
   "cell_type": "code",
   "execution_count": 11,
   "id": "f56c9776",
   "metadata": {},
   "outputs": [
    {
     "name": "stdout",
     "output_type": "stream",
     "text": [
      "\n",
      "Time running method: 0.1485890000000003\n",
      "Sets found:\n",
      "{'PDGFR': 0}\n",
      "{'SPHK1': 0}\n",
      "{'S1P': 0}\n",
      "{'Ceramide': 1, 'RAS': 1}\n",
      "{'Ceramide': 1, 'IL2RB': 1}\n",
      "{'Ceramide': 1, 'IL2RBT': 1}\n",
      "{'Ceramide': 1, 'GRB2': 1}\n",
      "{'TBET': 1, 'Ceramide': 1, 'ERK': 1}\n",
      "{'Ceramide': 1, 'PI3K': 1, 'ERK': 1}\n",
      "{'Ceramide': 1, 'PI3K': 1, 'MEK': 1}\n"
     ]
    }
   ],
   "source": [
    "start=default_timer()\n",
    "interventions = ar.reprogram_to_trap_spaces(target,\n",
    "                                            target_method='merge',\n",
    "                                            driver_method='internal',\n",
    "                                            max_drivers=4)\n",
    "end=default_timer()\n",
    "print()\n",
    "print(\"Time running method:\",end-start)\n",
    "print(\"Sets found:\")\n",
    "for x in interventions: print(x)"
   ]
  },
  {
   "cell_type": "markdown",
   "id": "96a2b19d",
   "metadata": {},
   "source": [
    "### GRASP merge\n",
    "This method is like the two above, but the driver search is conducted using a heuristic approach. This is most useful in extremely large networks when it is anticipated that only large intervention sets will drive the system to its desired target. This is due to the fact that method's computational cost scales polynomially with the size of considered intervention set (whereas the minimal merge method scales combinatorially)."
   ]
  },
  {
   "cell_type": "code",
   "execution_count": 12,
   "id": "7fbdab6b",
   "metadata": {},
   "outputs": [
    {
     "name": "stdout",
     "output_type": "stream",
     "text": [
      "\n",
      "Time running method: 0.44950259999999975\n",
      "Sets found:\n",
      "{'PDGFR': 0}\n",
      "{'SPHK1': 0}\n",
      "{'Ceramide': 1}\n",
      "{'S1P': 0}\n"
     ]
    }
   ],
   "source": [
    "start=default_timer()\n",
    "interventions = ar.reprogram_to_trap_spaces(target,\n",
    "                                            target_method='merge',\n",
    "                                            driver_method='GRASP',\n",
    "                                            GRASP_iterations=500)\n",
    "end=default_timer()\n",
    "print()\n",
    "print(\"Time running method:\",end-start)\n",
    "print(\"Sets found:\")\n",
    "for x in interventions: print(x)"
   ]
  },
  {
   "cell_type": "markdown",
   "id": "7dfb0b3e",
   "metadata": {},
   "source": [
    "## Another example: EMT\n",
    "In this example, we will consider driving the system so that it avoids the EMT transition. This is example is more computationally expensive than the previous one."
   ]
  },
  {
   "cell_type": "code",
   "execution_count": 13,
   "id": "1637fb65",
   "metadata": {},
   "outputs": [
    {
     "name": "stdout",
     "output_type": "stream",
     "text": [
      "AKT* = PI3K | ILK\n",
      "AXIN2* = TCF_LEF | AXIN2\n",
      "BTrCP* = !Csn\n",
      "Bcatenin_memb* = !Bcatenin_nuc & Ecadherin\n",
      "Bcatenin_nuc* = !Bcatenin_memb & !Dest_compl & !SUFU | !Bcatenin_memb & !Dest_compl & !Ecadherin\n",
      "CD44* = TCF_LEF\n",
      "CDC42* = TGFBR\n",
      "Csl* = NOTCH_ic\n",
      "Csn* = NFKB\n",
      "DELTA* = RAS\n",
      "DSH* = Frizzled\n",
      "Dest_compl* = AXIN2 & Bcatenin_nuc & GSK3B | Dest_compl & GSK3B\n",
      "EGR1* = cfos\n",
      "EMT* = !Ecadherin\n",
      "ERK* = MEK\n",
      "Ecadherin* = Bcatenin_memb & !ZEB2 | Bcatenin_memb & !ZEB1 | Bcatenin_memb & !TWIST1 | Bcatenin_memb & !SNAI2 | Bcatenin_memb & !SNAI1 | Bcatenin_memb & !HEY1 | Bcatenin_memb & !FOXC2\n",
      "FOXC2* = TWIST1 | SNAI1\n",
      "FUS* = SMO\n",
      "Frizzled* = Wnt\n",
      "GLI* = TCF_LEF | !SUFU\n",
      "GSK3B* = !AKT & !DSH & !ERK | !AKT & !DSH & !Dest_compl | !AKT & !Csn & !DSH\n",
      "HEY1* = SMAD | Csl\n",
      "IKKA* = AKT\n",
      "ILK* = SMAD\n",
      "Jagged* = TCF_LEF | SMAD\n",
      "LIV1* = STAT\n",
      "MEK* = !RKIP | RAF\n",
      "NFKB* = IKKA\n",
      "NOTCH* = Jagged | DELTA\n",
      "NOTCH_ic* = NOTCH\n",
      "PAK1* = CDC42\n",
      "PI3K* = RAS\n",
      "Patched* = !SHH\n",
      "RAF* = RAS\n",
      "RAS* = TCF_LEF | SRC | SOS_GRB2 | !GSK3B\n",
      "RKIP* = !SNAI1 | !ERK\n",
      "SHH* = SMAD | GLI\n",
      "SMAD* = TGFBR & !ZEB2 | TGFBR & ZEB1 | ERK & !ZEB2 | ERK & ZEB1\n",
      "SMO* = !Patched\n",
      "SNAI1* = SMAD | PAK1 | LIV1 | !GSK3B | GLI | EGR1 | Csl | !BTrCP\n",
      "SNAI2* = TWIST1 | SNAI2 | ERK | Bcatenin_nuc\n",
      "SOS_GRB2* = !ERK & cMet | !ERK & TGFBR\n",
      "SRC* = cMet\n",
      "STAT* = SRC\n",
      "SUFU* = !FUS\n",
      "TCF_LEF* = Bcatenin_nuc\n",
      "TGFB* = TWIST1 | SNAI1 | GLI\n",
      "TGFBR* = TGFB\n",
      "TWIST1* = TCF_LEF | SNAI1 | NFKB\n",
      "Wnt* = GLI\n",
      "ZEB1* = SNAI1 & !miR200\n",
      "ZEB2* = SNAI1 & !miR200\n",
      "cMet* = CD44\n",
      "cfos* = ERK\n",
      "miR200* = !SNAI1 & !ZEB1 & !ZEB2\n"
     ]
    }
   ],
   "source": [
    "primes = sm.format.import_primes(\"../models/EMT.txt\",remove_constants=True)   \n",
    "sm.format.pretty_print_prime_rules(primes)"
   ]
  },
  {
   "cell_type": "code",
   "execution_count": 14,
   "id": "1e8fe630",
   "metadata": {},
   "outputs": [
    {
     "name": "stdout",
     "output_type": "stream",
     "text": [
      "There are 13 attractors.\n",
      "{'AKT': 1, 'AXIN2': 1, 'BTrCP': 0, 'Bcatenin_memb': 0, 'Bcatenin_nuc': 1, 'CD44': 1, 'CDC42': 1, 'Csl': 1, 'Csn': 1, 'DELTA': 1, 'DSH': 1, 'Dest_compl': 0, 'EGR1': 1, 'EMT': 1, 'ERK': 1, 'Ecadherin': 0, 'FOXC2': 1, 'FUS': 1, 'Frizzled': 1, 'GLI': 1, 'GSK3B': 0, 'HEY1': 1, 'IKKA': 1, 'ILK': 1, 'Jagged': 1, 'LIV1': 1, 'MEK': 1, 'NFKB': 1, 'NOTCH': 1, 'NOTCH_ic': 1, 'PAK1': 1, 'PI3K': 1, 'Patched': 0, 'RAF': 1, 'RAS': 1, 'RKIP': 0, 'SHH': 1, 'SMAD': 1, 'SMO': 1, 'SNAI1': 1, 'SNAI2': 1, 'SOS_GRB2': 0, 'SRC': 1, 'STAT': 1, 'SUFU': 0, 'TCF_LEF': 1, 'TGFB': 1, 'TGFBR': 1, 'TWIST1': 1, 'Wnt': 1, 'ZEB1': 1, 'ZEB2': 1, 'cMet': 1, 'cfos': 1, 'miR200': 0}\n",
      "\n",
      "{'AKT': 0, 'AXIN2': 1, 'BTrCP': 1, 'Bcatenin_memb': 0, 'Bcatenin_nuc': 0, 'CD44': 0, 'CDC42': 0, 'Csl': 0, 'Csn': 0, 'DELTA': 0, 'DSH': 0, 'Dest_compl': 1, 'EGR1': 0, 'EMT': 1, 'ERK': 0, 'Ecadherin': 0, 'FOXC2': 0, 'FUS': 0, 'Frizzled': 0, 'GLI': 0, 'GSK3B': 1, 'HEY1': 0, 'IKKA': 0, 'ILK': 0, 'Jagged': 0, 'LIV1': 0, 'MEK': 0, 'NFKB': 0, 'NOTCH': 0, 'NOTCH_ic': 0, 'PAK1': 0, 'PI3K': 0, 'Patched': 1, 'RAF': 0, 'RAS': 0, 'RKIP': 1, 'SHH': 0, 'SMAD': 0, 'SMO': 0, 'SNAI1': 0, 'SNAI2': 1, 'SOS_GRB2': 0, 'SRC': 0, 'STAT': 0, 'SUFU': 1, 'TCF_LEF': 0, 'TGFB': 0, 'TGFBR': 0, 'TWIST1': 0, 'Wnt': 0, 'ZEB1': 0, 'ZEB2': 0, 'cMet': 0, 'cfos': 0, 'miR200': 1}\n",
      "\n",
      "{'AKT': 0, 'AXIN2': 1, 'BTrCP': 1, 'Bcatenin_memb': 0, 'Bcatenin_nuc': 0, 'CD44': 0, 'CDC42': 0, 'Csl': 0, 'Csn': 0, 'DELTA': 0, 'DSH': 0, 'Dest_compl': 1, 'EGR1': 0, 'EMT': 1, 'ERK': 0, 'Ecadherin': 0, 'FOXC2': 0, 'FUS': 0, 'Frizzled': 0, 'GLI': 0, 'GSK3B': 1, 'HEY1': 0, 'IKKA': 0, 'ILK': 0, 'Jagged': 0, 'LIV1': 0, 'MEK': 0, 'NFKB': 0, 'NOTCH': 0, 'NOTCH_ic': 0, 'PAK1': 0, 'PI3K': 0, 'Patched': 1, 'RAF': 0, 'RAS': 0, 'RKIP': 1, 'SHH': 0, 'SMAD': 0, 'SMO': 0, 'SNAI1': 0, 'SNAI2': 0, 'SOS_GRB2': 0, 'SRC': 0, 'STAT': 0, 'SUFU': 1, 'TCF_LEF': 0, 'TGFB': 0, 'TGFBR': 0, 'TWIST1': 0, 'Wnt': 0, 'ZEB1': 0, 'ZEB2': 0, 'cMet': 0, 'cfos': 0, 'miR200': 1}\n",
      "\n",
      "{'AKT': 0, 'AXIN2': 0, 'BTrCP': 1, 'Bcatenin_memb': 0, 'Bcatenin_nuc': 0, 'CD44': 0, 'CDC42': 0, 'Csl': 0, 'Csn': 0, 'DELTA': 0, 'DSH': 0, 'Dest_compl': 1, 'EGR1': 0, 'EMT': 1, 'ERK': 0, 'Ecadherin': 0, 'FOXC2': 0, 'FUS': 0, 'Frizzled': 0, 'GLI': 0, 'GSK3B': 1, 'HEY1': 0, 'IKKA': 0, 'ILK': 0, 'Jagged': 0, 'LIV1': 0, 'MEK': 0, 'NFKB': 0, 'NOTCH': 0, 'NOTCH_ic': 0, 'PAK1': 0, 'PI3K': 0, 'Patched': 1, 'RAF': 0, 'RAS': 0, 'RKIP': 1, 'SHH': 0, 'SMAD': 0, 'SMO': 0, 'SNAI1': 0, 'SNAI2': 1, 'SOS_GRB2': 0, 'SRC': 0, 'STAT': 0, 'SUFU': 1, 'TCF_LEF': 0, 'TGFB': 0, 'TGFBR': 0, 'TWIST1': 0, 'Wnt': 0, 'ZEB1': 0, 'ZEB2': 0, 'cMet': 0, 'cfos': 0, 'miR200': 1}\n",
      "\n",
      "{'AKT': 0, 'AXIN2': 0, 'BTrCP': 1, 'Bcatenin_memb': 0, 'Bcatenin_nuc': 0, 'CD44': 0, 'CDC42': 0, 'Csl': 0, 'Csn': 0, 'DELTA': 0, 'DSH': 0, 'Dest_compl': 1, 'EGR1': 0, 'EMT': 1, 'ERK': 0, 'Ecadherin': 0, 'FOXC2': 0, 'FUS': 0, 'Frizzled': 0, 'GLI': 0, 'GSK3B': 1, 'HEY1': 0, 'IKKA': 0, 'ILK': 0, 'Jagged': 0, 'LIV1': 0, 'MEK': 0, 'NFKB': 0, 'NOTCH': 0, 'NOTCH_ic': 0, 'PAK1': 0, 'PI3K': 0, 'Patched': 1, 'RAF': 0, 'RAS': 0, 'RKIP': 1, 'SHH': 0, 'SMAD': 0, 'SMO': 0, 'SNAI1': 0, 'SNAI2': 0, 'SOS_GRB2': 0, 'SRC': 0, 'STAT': 0, 'SUFU': 1, 'TCF_LEF': 0, 'TGFB': 0, 'TGFBR': 0, 'TWIST1': 0, 'Wnt': 0, 'ZEB1': 0, 'ZEB2': 0, 'cMet': 0, 'cfos': 0, 'miR200': 1}\n",
      "\n",
      "{'AKT': 0, 'AXIN2': 1, 'BTrCP': 1, 'Bcatenin_memb': 1, 'Bcatenin_nuc': 0, 'CD44': 0, 'CDC42': 0, 'Csl': 0, 'Csn': 0, 'DELTA': 0, 'DSH': 0, 'Dest_compl': 1, 'EGR1': 0, 'EMT': 0, 'ERK': 0, 'Ecadherin': 1, 'FOXC2': 0, 'FUS': 0, 'Frizzled': 0, 'GLI': 0, 'GSK3B': 1, 'HEY1': 0, 'IKKA': 0, 'ILK': 0, 'Jagged': 0, 'LIV1': 0, 'MEK': 0, 'NFKB': 0, 'NOTCH': 0, 'NOTCH_ic': 0, 'PAK1': 0, 'PI3K': 0, 'Patched': 1, 'RAF': 0, 'RAS': 0, 'RKIP': 1, 'SHH': 0, 'SMAD': 0, 'SMO': 0, 'SNAI1': 0, 'SNAI2': 1, 'SOS_GRB2': 0, 'SRC': 0, 'STAT': 0, 'SUFU': 1, 'TCF_LEF': 0, 'TGFB': 0, 'TGFBR': 0, 'TWIST1': 0, 'Wnt': 0, 'ZEB1': 0, 'ZEB2': 0, 'cMet': 0, 'cfos': 0, 'miR200': 1}\n",
      "\n",
      "{'AKT': 0, 'AXIN2': 1, 'BTrCP': 1, 'Bcatenin_memb': 1, 'Bcatenin_nuc': 0, 'CD44': 0, 'CDC42': 0, 'Csl': 0, 'Csn': 0, 'DELTA': 0, 'DSH': 0, 'Dest_compl': 0, 'EGR1': 0, 'EMT': 0, 'ERK': 0, 'Ecadherin': 1, 'FOXC2': 0, 'FUS': 0, 'Frizzled': 0, 'GLI': 0, 'GSK3B': 1, 'HEY1': 0, 'IKKA': 0, 'ILK': 0, 'Jagged': 0, 'LIV1': 0, 'MEK': 0, 'NFKB': 0, 'NOTCH': 0, 'NOTCH_ic': 0, 'PAK1': 0, 'PI3K': 0, 'Patched': 1, 'RAF': 0, 'RAS': 0, 'RKIP': 1, 'SHH': 0, 'SMAD': 0, 'SMO': 0, 'SNAI1': 0, 'SNAI2': 1, 'SOS_GRB2': 0, 'SRC': 0, 'STAT': 0, 'SUFU': 1, 'TCF_LEF': 0, 'TGFB': 0, 'TGFBR': 0, 'TWIST1': 0, 'Wnt': 0, 'ZEB1': 0, 'ZEB2': 0, 'cMet': 0, 'cfos': 0, 'miR200': 1}\n",
      "\n",
      "{'AKT': 0, 'AXIN2': 1, 'BTrCP': 1, 'Bcatenin_memb': 1, 'Bcatenin_nuc': 0, 'CD44': 0, 'CDC42': 0, 'Csl': 0, 'Csn': 0, 'DELTA': 0, 'DSH': 0, 'Dest_compl': 1, 'EGR1': 0, 'EMT': 0, 'ERK': 0, 'Ecadherin': 1, 'FOXC2': 0, 'FUS': 0, 'Frizzled': 0, 'GLI': 0, 'GSK3B': 1, 'HEY1': 0, 'IKKA': 0, 'ILK': 0, 'Jagged': 0, 'LIV1': 0, 'MEK': 0, 'NFKB': 0, 'NOTCH': 0, 'NOTCH_ic': 0, 'PAK1': 0, 'PI3K': 0, 'Patched': 1, 'RAF': 0, 'RAS': 0, 'RKIP': 1, 'SHH': 0, 'SMAD': 0, 'SMO': 0, 'SNAI1': 0, 'SNAI2': 0, 'SOS_GRB2': 0, 'SRC': 0, 'STAT': 0, 'SUFU': 1, 'TCF_LEF': 0, 'TGFB': 0, 'TGFBR': 0, 'TWIST1': 0, 'Wnt': 0, 'ZEB1': 0, 'ZEB2': 0, 'cMet': 0, 'cfos': 0, 'miR200': 1}\n",
      "\n",
      "{'AKT': 0, 'AXIN2': 1, 'BTrCP': 1, 'Bcatenin_memb': 1, 'Bcatenin_nuc': 0, 'CD44': 0, 'CDC42': 0, 'Csl': 0, 'Csn': 0, 'DELTA': 0, 'DSH': 0, 'Dest_compl': 0, 'EGR1': 0, 'EMT': 0, 'ERK': 0, 'Ecadherin': 1, 'FOXC2': 0, 'FUS': 0, 'Frizzled': 0, 'GLI': 0, 'GSK3B': 1, 'HEY1': 0, 'IKKA': 0, 'ILK': 0, 'Jagged': 0, 'LIV1': 0, 'MEK': 0, 'NFKB': 0, 'NOTCH': 0, 'NOTCH_ic': 0, 'PAK1': 0, 'PI3K': 0, 'Patched': 1, 'RAF': 0, 'RAS': 0, 'RKIP': 1, 'SHH': 0, 'SMAD': 0, 'SMO': 0, 'SNAI1': 0, 'SNAI2': 0, 'SOS_GRB2': 0, 'SRC': 0, 'STAT': 0, 'SUFU': 1, 'TCF_LEF': 0, 'TGFB': 0, 'TGFBR': 0, 'TWIST1': 0, 'Wnt': 0, 'ZEB1': 0, 'ZEB2': 0, 'cMet': 0, 'cfos': 0, 'miR200': 1}\n",
      "\n",
      "{'AKT': 0, 'AXIN2': 0, 'BTrCP': 1, 'Bcatenin_memb': 1, 'Bcatenin_nuc': 0, 'CD44': 0, 'CDC42': 0, 'Csl': 0, 'Csn': 0, 'DELTA': 0, 'DSH': 0, 'Dest_compl': 1, 'EGR1': 0, 'EMT': 0, 'ERK': 0, 'Ecadherin': 1, 'FOXC2': 0, 'FUS': 0, 'Frizzled': 0, 'GLI': 0, 'GSK3B': 1, 'HEY1': 0, 'IKKA': 0, 'ILK': 0, 'Jagged': 0, 'LIV1': 0, 'MEK': 0, 'NFKB': 0, 'NOTCH': 0, 'NOTCH_ic': 0, 'PAK1': 0, 'PI3K': 0, 'Patched': 1, 'RAF': 0, 'RAS': 0, 'RKIP': 1, 'SHH': 0, 'SMAD': 0, 'SMO': 0, 'SNAI1': 0, 'SNAI2': 1, 'SOS_GRB2': 0, 'SRC': 0, 'STAT': 0, 'SUFU': 1, 'TCF_LEF': 0, 'TGFB': 0, 'TGFBR': 0, 'TWIST1': 0, 'Wnt': 0, 'ZEB1': 0, 'ZEB2': 0, 'cMet': 0, 'cfos': 0, 'miR200': 1}\n",
      "\n",
      "{'AKT': 0, 'AXIN2': 0, 'BTrCP': 1, 'Bcatenin_memb': 1, 'Bcatenin_nuc': 0, 'CD44': 0, 'CDC42': 0, 'Csl': 0, 'Csn': 0, 'DELTA': 0, 'DSH': 0, 'Dest_compl': 0, 'EGR1': 0, 'EMT': 0, 'ERK': 0, 'Ecadherin': 1, 'FOXC2': 0, 'FUS': 0, 'Frizzled': 0, 'GLI': 0, 'GSK3B': 1, 'HEY1': 0, 'IKKA': 0, 'ILK': 0, 'Jagged': 0, 'LIV1': 0, 'MEK': 0, 'NFKB': 0, 'NOTCH': 0, 'NOTCH_ic': 0, 'PAK1': 0, 'PI3K': 0, 'Patched': 1, 'RAF': 0, 'RAS': 0, 'RKIP': 1, 'SHH': 0, 'SMAD': 0, 'SMO': 0, 'SNAI1': 0, 'SNAI2': 1, 'SOS_GRB2': 0, 'SRC': 0, 'STAT': 0, 'SUFU': 1, 'TCF_LEF': 0, 'TGFB': 0, 'TGFBR': 0, 'TWIST1': 0, 'Wnt': 0, 'ZEB1': 0, 'ZEB2': 0, 'cMet': 0, 'cfos': 0, 'miR200': 1}\n",
      "\n",
      "{'AKT': 0, 'AXIN2': 0, 'BTrCP': 1, 'Bcatenin_memb': 1, 'Bcatenin_nuc': 0, 'CD44': 0, 'CDC42': 0, 'Csl': 0, 'Csn': 0, 'DELTA': 0, 'DSH': 0, 'Dest_compl': 1, 'EGR1': 0, 'EMT': 0, 'ERK': 0, 'Ecadherin': 1, 'FOXC2': 0, 'FUS': 0, 'Frizzled': 0, 'GLI': 0, 'GSK3B': 1, 'HEY1': 0, 'IKKA': 0, 'ILK': 0, 'Jagged': 0, 'LIV1': 0, 'MEK': 0, 'NFKB': 0, 'NOTCH': 0, 'NOTCH_ic': 0, 'PAK1': 0, 'PI3K': 0, 'Patched': 1, 'RAF': 0, 'RAS': 0, 'RKIP': 1, 'SHH': 0, 'SMAD': 0, 'SMO': 0, 'SNAI1': 0, 'SNAI2': 0, 'SOS_GRB2': 0, 'SRC': 0, 'STAT': 0, 'SUFU': 1, 'TCF_LEF': 0, 'TGFB': 0, 'TGFBR': 0, 'TWIST1': 0, 'Wnt': 0, 'ZEB1': 0, 'ZEB2': 0, 'cMet': 0, 'cfos': 0, 'miR200': 1}\n",
      "\n",
      "{'AKT': 0, 'AXIN2': 0, 'BTrCP': 1, 'Bcatenin_memb': 1, 'Bcatenin_nuc': 0, 'CD44': 0, 'CDC42': 0, 'Csl': 0, 'Csn': 0, 'DELTA': 0, 'DSH': 0, 'Dest_compl': 0, 'EGR1': 0, 'EMT': 0, 'ERK': 0, 'Ecadherin': 1, 'FOXC2': 0, 'FUS': 0, 'Frizzled': 0, 'GLI': 0, 'GSK3B': 1, 'HEY1': 0, 'IKKA': 0, 'ILK': 0, 'Jagged': 0, 'LIV1': 0, 'MEK': 0, 'NFKB': 0, 'NOTCH': 0, 'NOTCH_ic': 0, 'PAK1': 0, 'PI3K': 0, 'Patched': 1, 'RAF': 0, 'RAS': 0, 'RKIP': 1, 'SHH': 0, 'SMAD': 0, 'SMO': 0, 'SNAI1': 0, 'SNAI2': 0, 'SOS_GRB2': 0, 'SRC': 0, 'STAT': 0, 'SUFU': 1, 'TCF_LEF': 0, 'TGFB': 0, 'TGFBR': 0, 'TWIST1': 0, 'Wnt': 0, 'ZEB1': 0, 'ZEB2': 0, 'cMet': 0, 'cfos': 0, 'miR200': 1}\n",
      "\n"
     ]
    }
   ],
   "source": [
    "ar = sm.AttractorRepertoire.from_primes(primes)\n",
    "ar.summary()\n",
    "target = {'EMT':0}"
   ]
  },
  {
   "cell_type": "markdown",
   "id": "19c89236",
   "metadata": {},
   "source": [
    "### Brute-force "
   ]
  },
  {
   "cell_type": "code",
   "execution_count": 15,
   "id": "b8fa2b36",
   "metadata": {},
   "outputs": [
    {
     "name": "stdout",
     "output_type": "stream",
     "text": [
      "Time running method: 1.1220830999999993\n",
      "Sets found:\n",
      "{'EMT': 0}\n",
      "{'Ecadherin': 1}\n",
      "{'Bcatenin_memb': 1, 'ZEB2': 0}\n",
      "{'Bcatenin_memb': 1, 'ZEB1': 0}\n",
      "{'Bcatenin_memb': 1, 'SNAI1': 0}\n",
      "{'Bcatenin_memb': 1, 'SNAI2': 0}\n",
      "{'Bcatenin_memb': 1, 'HEY1': 0}\n",
      "{'Bcatenin_memb': 1, 'TWIST1': 0}\n",
      "{'Bcatenin_memb': 1, 'miR200': 1}\n",
      "{'Bcatenin_memb': 1, 'FOXC2': 0}\n"
     ]
    }
   ],
   "source": [
    "start=default_timer()\n",
    "interventions = sm.drivers.knock_to_partial_state(target,primes,max_drivers=2)\n",
    "end=default_timer()\n",
    "print(\"Time running method:\",end-start)\n",
    "print(\"Sets found:\")\n",
    "for x in interventions: \n",
    "    print({k:v for k,v in sorted(x.items())})"
   ]
  },
  {
   "cell_type": "markdown",
   "id": "e51bbce4",
   "metadata": {},
   "source": [
    "### Grasp search"
   ]
  },
  {
   "cell_type": "code",
   "execution_count": 16,
   "id": "a4a707b0",
   "metadata": {},
   "outputs": [
    {
     "name": "stdout",
     "output_type": "stream",
     "text": [
      "Time running method: 1.2464169999999992\n",
      "Sets found:\n",
      "{'Bcatenin_memb': 1, 'SNAI1': 0}\n",
      "{'Ecadherin': 1}\n",
      "{'Bcatenin_memb': 1, 'miR200': 1}\n"
     ]
    }
   ],
   "source": [
    "GRASP_iterations=2000\n",
    "start=default_timer()\n",
    "interventions = sm.drivers.GRASP(target,ar.primes,GRASP_iterations)\n",
    "end=default_timer()\n",
    "print(\"Time running method:\",end-start)\n",
    "print(\"Sets found:\")\n",
    "for x in interventions: \n",
    "    print({k:v for k,v in sorted(x.items())})"
   ]
  },
  {
   "cell_type": "markdown",
   "id": "46d0b7a3",
   "metadata": {},
   "source": [
    "### Internal history"
   ]
  },
  {
   "cell_type": "code",
   "execution_count": 17,
   "id": "8453279f",
   "metadata": {},
   "outputs": [
    {
     "name": "stdout",
     "output_type": "stream",
     "text": [
      "\n",
      "Time running method: 51.11319219999999\n",
      "Sets found:\n",
      "{'AKT': 0, 'Ecadherin': 1, 'SMO': 0, 'SNAI1': 0}\n",
      "{'AKT': 0, 'Bcatenin_memb': 1, 'SMO': 0, 'SNAI1': 0}\n",
      "{'AKT': 0, 'Ecadherin': 1, 'Patched': 1, 'SNAI1': 0}\n",
      "{'AKT': 0, 'Bcatenin_memb': 1, 'Patched': 1, 'SNAI1': 0}\n",
      "{'AKT': 0, 'Ecadherin': 1, 'SHH': 0, 'SNAI1': 0}\n",
      "{'AKT': 0, 'Bcatenin_memb': 1, 'SHH': 0, 'SNAI1': 0}\n",
      "{'AKT': 0, 'Ecadherin': 1, 'FUS': 0, 'SNAI1': 0}\n",
      "{'AKT': 0, 'Ecadherin': 1, 'SNAI1': 0, 'SUFU': 1}\n",
      "{'AKT': 0, 'Bcatenin_memb': 1, 'FUS': 0, 'SNAI1': 0}\n",
      "{'AKT': 0, 'Bcatenin_memb': 1, 'SNAI1': 0, 'SUFU': 1}\n",
      "{'AKT': 0, 'Bcatenin_memb': 1, 'GLI': 0, 'SNAI1': 0}\n",
      "{'AKT': 0, 'Dest_compl': 1, 'Ecadherin': 1, 'GLI': 0, 'SNAI1': 0}\n"
     ]
    }
   ],
   "source": [
    "start=default_timer()\n",
    "interventions = ar.reprogram_to_trap_spaces(target,\n",
    "                                            target_method='history',\n",
    "                                            driver_method='internal',\n",
    "                                            max_drivers=4)\n",
    "end=default_timer()\n",
    "print()\n",
    "print(\"Time running method:\",end-start)\n",
    "print(\"Sets found:\")\n",
    "for x in interventions: print({k:v for k,v in sorted(x.items())})"
   ]
  },
  {
   "cell_type": "markdown",
   "id": "9d8f691d",
   "metadata": {},
   "source": [
    "### Minimal history"
   ]
  },
  {
   "cell_type": "code",
   "execution_count": 18,
   "id": "cb93863f",
   "metadata": {},
   "outputs": [
    {
     "name": "stdout",
     "output_type": "stream",
     "text": [
      "\n",
      "Time running method: 187.4919534\n",
      "Sets found:\n",
      "---\n",
      "One temporary intervention from each list, in order.\n",
      "(1 interventions in total)\n",
      "[{'AKT': 0, 'SMO': 0, 'SNAI1': 0, 'Ecadherin': 1}, {'AKT': 0, 'SMO': 0, 'SNAI1': 0, 'Bcatenin_memb': 1}, {'AKT': 0, 'SNAI1': 0, 'Patched': 1, 'Ecadherin': 1}, {'AKT': 0, 'SNAI1': 0, 'Patched': 1, 'Bcatenin_memb': 1}, {'AKT': 0, 'SNAI1': 0, 'SHH': 0, 'Ecadherin': 1}, {'AKT': 0, 'SNAI1': 0, 'SHH': 0, 'Bcatenin_memb': 1}, {'AKT': 0, 'SNAI1': 0, 'Ecadherin': 1, 'FUS': 0}, {'AKT': 0, 'SNAI1': 0, 'Ecadherin': 1, 'SUFU': 1}, {'AKT': 0, 'SNAI1': 0, 'FUS': 0, 'Bcatenin_memb': 1}, {'AKT': 0, 'SNAI1': 0, 'Bcatenin_memb': 1, 'SUFU': 1}, {'AKT': 0, 'SNAI1': 0, 'Bcatenin_memb': 1, 'GLI': 0}] \n",
      "\n",
      "---\n",
      "One temporary intervention from each list, in order.\n",
      "(2 interventions in total)\n",
      "[{'AKT': 0, 'SMO': 0, 'SNAI1': 0, 'Dest_compl': 1}, {'AKT': 0, 'SNAI1': 0, 'Dest_compl': 1, 'Patched': 1}, {'AKT': 0, 'SNAI1': 0, 'Dest_compl': 1, 'SHH': 0}, {'AKT': 0, 'SNAI1': 0, 'Dest_compl': 1, 'FUS': 0}, {'AKT': 0, 'SNAI1': 0, 'Dest_compl': 1, 'SUFU': 1}, {'AKT': 0, 'SNAI1': 0, 'Dest_compl': 1, 'GLI': 0}] \n",
      "\n",
      "[{'Bcatenin_memb': 1}, {'Ecadherin': 1}] \n",
      "\n"
     ]
    }
   ],
   "source": [
    "start=default_timer()\n",
    "interventions = ar.reprogram_to_trap_spaces(target,\n",
    "                                            target_method='history',\n",
    "                                            driver_method='minimal',\n",
    "                                            max_drivers=4)\n",
    "end=default_timer()\n",
    "print()\n",
    "print(\"Time running method:\",end-start)\n",
    "print(\"Sets found:\")\n",
    "for x in interventions: \n",
    "    print(\"---\")\n",
    "    print(\"One temporary intervention from each list, in order.\")\n",
    "    print(\"(\"+str(len(x))+\" interventions in total)\")\n",
    "    for y in x: print(y,\"\\n\")"
   ]
  },
  {
   "cell_type": "markdown",
   "id": "a6c1ff58",
   "metadata": {},
   "source": [
    "### GRASP history"
   ]
  },
  {
   "cell_type": "code",
   "execution_count": 25,
   "id": "a9db2849",
   "metadata": {},
   "outputs": [
    {
     "name": "stdout",
     "output_type": "stream",
     "text": [
      "\n",
      "Time running method: 61.34700499999997\n",
      "Sets found:\n",
      "---\n",
      "One temporary intervention from each list, in order.\n",
      "(1 interventions in total)\n",
      "[{'SMO': 0, 'SNAI1': 0, 'AKT': 0, 'Bcatenin_memb': 1}] \n",
      "\n",
      "---\n",
      "One temporary intervention from each list, in order.\n",
      "(2 interventions in total)\n",
      "[{'AXIN2': 1, 'DELTA': 1, 'Bcatenin_nuc': 0, 'cfos': 0, 'Frizzled': 0, 'SUFU': 0, 'LIV1': 1, 'RKIP': 0, 'PAK1': 1, 'Bcatenin_memb': 0, 'SMAD': 0, 'NOTCH_ic': 0, 'RAS': 0, 'Ecadherin': 1, 'TGFB': 0, 'Dest_compl': 1, 'SNAI2': 1, 'IKKA': 1, 'SNAI1': 0, 'BTrCP': 0, 'CD44': 0, 'RAF': 1, 'EGR1': 1, 'GLI': 1, 'Patched': 0, 'FUS': 1, 'Jagged': 1, 'Csl': 1, 'cMet': 1, 'TWIST1': 1, 'NFKB': 1, 'MEK': 0, 'SHH': 1, 'TCF_LEF': 0, 'STAT': 0, 'ZEB2': 1, 'CDC42': 1, 'SMO': 0, 'ZEB1': 1, 'ERK': 0, 'Wnt': 1, 'Csn': 1, 'AKT': 0, 'PI3K': 1}, {'GSK3B': 0, 'TGFBR': 0, 'SHH': 0, 'Dest_compl': 1, 'ERK': 1, 'cMet': 1, 'SNAI1': 0, 'Patched': 1, 'AKT': 0, 'SUFU': 0, 'Bcatenin_nuc': 0, 'Wnt': 1, 'Csl': 1, 'EGR1': 1, 'IKKA': 1, 'MEK': 0, 'TGFB': 1, 'Frizzled': 1, 'DSH': 1, 'CD44': 1, 'SRC': 1, 'RAF': 1}] \n",
      "\n",
      "[{'Ecadherin': 1}, {'Bcatenin_memb': 1}] \n",
      "\n"
     ]
    }
   ],
   "source": [
    "start=default_timer()\n",
    "interventions = ar.reprogram_to_trap_spaces(target,\n",
    "                                            target_method='history',\n",
    "                                            driver_method='GRASP',\n",
    "                                            GRASP_iterations=50000)\n",
    "end=default_timer()\n",
    "print()\n",
    "print(\"Time running method:\",end-start)\n",
    "print(\"Sets found:\")\n",
    "for x in interventions: \n",
    "    print(\"---\")\n",
    "    print(\"One temporary intervention from each list, in order.\")\n",
    "    print(\"(\"+str(len(x))+\" interventions in total)\")\n",
    "    for y in x: print(y,\"\\n\")"
   ]
  },
  {
   "cell_type": "markdown",
   "id": "a170f304",
   "metadata": {},
   "source": [
    "### Minimal merge"
   ]
  },
  {
   "cell_type": "code",
   "execution_count": 20,
   "id": "837bc070",
   "metadata": {},
   "outputs": [
    {
     "name": "stdout",
     "output_type": "stream",
     "text": [
      "\n",
      "Time running method: 177.09607780000002\n",
      "Sets found:\n",
      "{'AKT': 0, 'SMO': 0, 'SNAI1': 0, 'Ecadherin': 1}\n",
      "{'AKT': 0, 'SMO': 0, 'SNAI1': 0, 'Bcatenin_memb': 1}\n",
      "{'AKT': 0, 'SNAI1': 0, 'Patched': 1, 'Ecadherin': 1}\n",
      "{'AKT': 0, 'SNAI1': 0, 'Patched': 1, 'Bcatenin_memb': 1}\n",
      "{'AKT': 0, 'SNAI1': 0, 'SHH': 0, 'Ecadherin': 1}\n",
      "{'AKT': 0, 'SNAI1': 0, 'SHH': 0, 'Bcatenin_memb': 1}\n",
      "{'AKT': 0, 'SNAI1': 0, 'Ecadherin': 1, 'FUS': 0}\n",
      "{'AKT': 0, 'SNAI1': 0, 'Ecadherin': 1, 'SUFU': 1}\n",
      "{'AKT': 0, 'SNAI1': 0, 'FUS': 0, 'Bcatenin_memb': 1}\n",
      "{'AKT': 0, 'SNAI1': 0, 'Bcatenin_memb': 1, 'SUFU': 1}\n",
      "{'AKT': 0, 'SNAI1': 0, 'Bcatenin_memb': 1, 'GLI': 0}\n"
     ]
    }
   ],
   "source": [
    "start=default_timer()\n",
    "interventions = ar.reprogram_to_trap_spaces(target,\n",
    "                                            target_method='merge',\n",
    "                                            driver_method='minimal',\n",
    "                                            max_drivers=4)\n",
    "end=default_timer()\n",
    "print()\n",
    "print(\"Time running method:\",end-start)\n",
    "print(\"Sets found:\")\n",
    "for x in interventions: print(x)"
   ]
  },
  {
   "cell_type": "markdown",
   "id": "7035c1e5",
   "metadata": {},
   "source": [
    "### Internal merge"
   ]
  },
  {
   "cell_type": "code",
   "execution_count": 21,
   "id": "7bafea32",
   "metadata": {},
   "outputs": [
    {
     "name": "stdout",
     "output_type": "stream",
     "text": [
      "\n",
      "Time running method: 55.833787599999994\n",
      "Sets found:\n",
      "{'AKT': 0, 'SMO': 0, 'SNAI1': 0, 'Ecadherin': 1}\n",
      "{'AKT': 0, 'SMO': 0, 'SNAI1': 0, 'Bcatenin_memb': 1}\n",
      "{'AKT': 0, 'SNAI1': 0, 'Patched': 1, 'Ecadherin': 1}\n",
      "{'AKT': 0, 'SNAI1': 0, 'Patched': 1, 'Bcatenin_memb': 1}\n",
      "{'AKT': 0, 'SNAI1': 0, 'SHH': 0, 'Ecadherin': 1}\n",
      "{'AKT': 0, 'SNAI1': 0, 'SHH': 0, 'Bcatenin_memb': 1}\n",
      "{'AKT': 0, 'SNAI1': 0, 'Ecadherin': 1, 'FUS': 0}\n",
      "{'AKT': 0, 'SNAI1': 0, 'Ecadherin': 1, 'SUFU': 1}\n",
      "{'AKT': 0, 'SNAI1': 0, 'FUS': 0, 'Bcatenin_memb': 1}\n",
      "{'AKT': 0, 'SNAI1': 0, 'Bcatenin_memb': 1, 'SUFU': 1}\n",
      "{'AKT': 0, 'SNAI1': 0, 'Bcatenin_memb': 1, 'GLI': 0}\n"
     ]
    }
   ],
   "source": [
    "start=default_timer()\n",
    "interventions = ar.reprogram_to_trap_spaces(target,\n",
    "                                            target_method='merge',\n",
    "                                            driver_method='internal',\n",
    "                                            max_drivers=4)\n",
    "end=default_timer()\n",
    "print()\n",
    "print(\"Time running method:\",end-start)\n",
    "print(\"Sets found:\")\n",
    "for x in interventions: print(x)"
   ]
  },
  {
   "cell_type": "markdown",
   "id": "6113dd14",
   "metadata": {},
   "source": [
    "### GRASP merge"
   ]
  },
  {
   "cell_type": "code",
   "execution_count": 26,
   "id": "a69bd6df",
   "metadata": {},
   "outputs": [
    {
     "name": "stdout",
     "output_type": "stream",
     "text": [
      "\n",
      "Time running method: 61.149654000000055\n",
      "Sets found:\n",
      "{'SHH': 0, 'FUS': 1, 'DSH': 1, 'Bcatenin_memb': 1, 'CDC42': 1, 'BTrCP': 0, 'SMO': 1, 'TGFB': 0, 'ERK': 1, 'LIV1': 1, 'GSK3B': 0, 'SUFU': 0, 'cMet': 1, 'Bcatenin_nuc': 0, 'RAS': 1, 'RAF': 1, 'GLI': 1, 'AKT': 0, 'Csl': 1, 'TGFBR': 1, 'DELTA': 1, 'Patched': 1, 'MEK': 0, 'CD44': 0, 'Csn': 1}\n",
      "{'Patched': 1, 'TGFBR': 0, 'BTrCP': 0, 'GSK3B': 0, 'TCF_LEF': 0, 'Bcatenin_nuc': 0, 'SMAD': 1, 'SMO': 1, 'Csl': 1, 'NOTCH_ic': 1, 'cfos': 1, 'Jagged': 1, 'RAS': 1, 'RKIP': 0, 'DSH': 1, 'IKKA': 1, 'Wnt': 1, 'RAF': 1, 'Csn': 1, 'AKT': 0, 'NFKB': 1, 'ERK': 1, 'DELTA': 1, 'LIV1': 1, 'ILK': 1, 'Bcatenin_memb': 1, 'SNAI1': 0, 'CD44': 1}\n",
      "{'Csn': 1, 'LIV1': 1, 'ILK': 1, 'Dest_compl': 1, 'cfos': 1, 'SHH': 1, 'BTrCP': 0, 'ERK': 0, 'TGFBR': 1, 'SMO': 1, 'Wnt': 0, 'TWIST1': 1, 'CDC42': 1, 'RAS': 0, 'Patched': 0, 'IKKA': 1, 'STAT': 1, 'RKIP': 0, 'DELTA': 1, 'CD44': 0, 'GLI': 0, 'Csl': 1, 'Bcatenin_memb': 1, 'TCF_LEF': 1, 'cMet': 1, 'AKT': 0, 'SRC': 1, 'RAF': 1, 'GSK3B': 0, 'Bcatenin_nuc': 0, 'MEK': 1, 'NOTCH': 0, 'DSH': 1, 'TGFB': 0, 'NFKB': 1, 'SNAI1': 0, 'FUS': 1}\n"
     ]
    }
   ],
   "source": [
    "start=default_timer()\n",
    "interventions = ar.reprogram_to_trap_spaces(target,\n",
    "                                            target_method='merge',\n",
    "                                            driver_method='GRASP',\n",
    "                                            GRASP_iterations=50000)\n",
    "end=default_timer()\n",
    "print()\n",
    "print(\"Time running method:\",end-start)\n",
    "print(\"Sets found:\")\n",
    "for x in interventions: print(x)"
   ]
  },
  {
   "cell_type": "code",
   "execution_count": null,
   "id": "94ce3bf9",
   "metadata": {},
   "outputs": [],
   "source": []
  }
 ],
 "metadata": {
  "kernelspec": {
   "display_name": "Python 3 (ipykernel)",
   "language": "python",
   "name": "python3"
  },
  "language_info": {
   "codemirror_mode": {
    "name": "ipython",
    "version": 3
   },
   "file_extension": ".py",
   "mimetype": "text/x-python",
   "name": "python",
   "nbconvert_exporter": "python",
   "pygments_lexer": "ipython3",
   "version": "3.9.6"
  }
 },
 "nbformat": 4,
 "nbformat_minor": 5
}
