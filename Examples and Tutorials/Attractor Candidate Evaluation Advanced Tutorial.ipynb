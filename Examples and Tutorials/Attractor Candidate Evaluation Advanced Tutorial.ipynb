{
 "cells": [
  {
   "cell_type": "markdown",
   "metadata": {},
   "source": [
    "# Attractor candidate follow-up tutorial (advanced)\n",
    "In this tutorial, we examine ways one can explore, \"by-hand\", whether a returned attractor candidate is valid or not. This tutorial assumes a strong understanding of motif avoidance and the inner workings of the pystablemotifs attractor identification algorithm."
   ]
  },
  {
   "cell_type": "markdown",
   "metadata": {},
   "source": [
    "### Importing and finding attractors"
   ]
  },
  {
   "cell_type": "code",
   "execution_count": 20,
   "metadata": {},
   "outputs": [],
   "source": [
    "import pystablemotifs as sm\n",
    "import networkx as nx"
   ]
  },
  {
   "cell_type": "code",
   "execution_count": 2,
   "metadata": {},
   "outputs": [
    {
     "name": "stdout",
     "output_type": "stream",
     "text": [
      "A20* = NFKB\n",
      "Apoptosis* = Caspase\n",
      "BID* = !BclxL & GZMB & !MCL1 | !BclxL & Caspase & !MCL1\n",
      "BclxL* = !BID & !DISC & !GZMB & STAT3 | !BID & !DISC & !GZMB & NFKB\n",
      "CREB* = ERK & IFNG\n",
      "CTLA4* = TCR\n",
      "Caspase* = BID & !IAP & TRADD | BID & GZMB & !IAP | DISC\n",
      "Ceramide* = Fas & !S1P\n",
      "Cytoskeleton_signaling* = FYN\n",
      "DISC* = Fas & FasT & IL2 | !FLIP & Fas & FasT | Ceramide & FasT\n",
      "ERK* = MEK & PI3K\n",
      "FLIP* = CREB & !DISC & IFNG | !DISC & NFKB\n",
      "FYN* = TCR | IL2RB\n",
      "Fas* = FasL & FasT & !sFas\n",
      "FasL* = STAT3 | NFKB | NFAT | ERK\n",
      "FasT* = NFKB\n",
      "GAP* = GAP & !IL15 & !IL2 & PDGFR | !IL15 & !IL2 & RAS\n",
      "GPCR* = S1P\n",
      "GRB2* = ZAP70 | IL2RB\n",
      "GZMB* = CREB & IFNG | TBET\n",
      "IAP* = !BID & NFKB\n",
      "IFNG* = IFNGT & !P2 & !SMAD & Stimuli | IFNGT & IL2 & !P2 & !SMAD | IFNGT & IL15 & !P2 & !SMAD\n",
      "IFNGT* = TBET | STAT3 | NFAT\n",
      "IL15* = IL15\n",
      "IL2* = STAT3 & !TBET | NFKB & !TBET | NFAT & !TBET\n",
      "IL2RA* = IL2 & !IL2RA & IL2RAT\n",
      "IL2RAT* = IL2 & STAT3 | IL2 & NFKB\n",
      "IL2RB* = IL2 & IL2RBT | IL15 & IL2RBT\n",
      "IL2RBT* = ERK & TBET\n",
      "JAK* = RANTES & !SOCS | IL2RB & !SOCS | IL2RA & !SOCS | IFNG & !SOCS\n",
      "LCK* = TCR & !ZAP70 | IL2RB & !ZAP70\n",
      "MCL1* = !DISC & IL2RB & NFKB & PI3K & STAT3\n",
      "MEK* = RAS\n",
      "NFAT* = PI3K\n",
      "NFKB* = FLIP & IAP & TRADD | TPL2 | PI3K\n",
      "P2* = P2 | IFNG\n",
      "P27* = STAT3\n",
      "PDGF* = PDGF\n",
      "PDGFR* = S1P | PDGF\n",
      "PI3K* = RAS | PDGFR\n",
      "PLCG1* = PDGFR | GRB2\n",
      "Proliferation* = !P27 & STAT3\n",
      "RANTES* = NFKB\n",
      "RAS* = !GAP & PLCG1 | !GAP & GRB2\n",
      "S1P* = !Ceramide & SPHK1\n",
      "SMAD* = GPCR\n",
      "SOCS* = !IL15 & !IL2 & JAK\n",
      "SPHK1* = PDGFR\n",
      "STAT3* = JAK\n",
      "Stimuli* = Stimuli\n",
      "TBET* = TBET | JAK\n",
      "TCR* = !CTLA4 & Stimuli\n",
      "TNF* = NFKB\n",
      "TPL2* = PI3K & TNF\n",
      "TRADD* = !A20 & !IAP & TNF\n",
      "ZAP70* = !FYN & LCK\n",
      "sFas* = FasT & S1P\n"
     ]
    }
   ],
   "source": [
    "primes = sm.format.import_primes('../models/TLGL_Large.txt', remove_constants = True)\n",
    "sm.format.pretty_print_prime_rules(primes)"
   ]
  },
  {
   "cell_type": "code",
   "execution_count": 3,
   "metadata": {},
   "outputs": [
    {
     "name": "stdout",
     "output_type": "stream",
     "text": [
      "There are between 31 and 33 attractors.\n",
      "{'A20': 0, 'Apoptosis': 1, 'BID': 1, 'BclxL': 0, 'CREB': 0, 'CTLA4': 0, 'Caspase': 1, 'Ceramide': 0, 'Cytoskeleton_signaling': 0, 'DISC': 0, 'ERK': 0, 'FLIP': 0, 'FYN': 0, 'Fas': 0, 'FasL': 0, 'FasT': 0, 'GAP': 0, 'GPCR': 0, 'GRB2': 0, 'GZMB': 1, 'IAP': 0, 'IFNG': 0, 'IFNGT': 1, 'IL15': 0, 'IL2': 0, 'IL2RA': 0, 'IL2RAT': 0, 'IL2RB': 0, 'IL2RBT': 0, 'JAK': 0, 'LCK': 0, 'MCL1': 0, 'MEK': 0, 'NFAT': 0, 'NFKB': 0, 'P2': 1, 'P27': 0, 'PDGF': 0, 'PDGFR': 0, 'PI3K': 0, 'PLCG1': 0, 'Proliferation': 0, 'RANTES': 0, 'RAS': 0, 'S1P': 0, 'SMAD': 0, 'SOCS': 0, 'SPHK1': 0, 'STAT3': 0, 'Stimuli': 0, 'TBET': 1, 'TCR': 0, 'TNF': 0, 'TPL2': 0, 'TRADD': 0, 'ZAP70': 0, 'sFas': 0}\n",
      "\n",
      "{'A20': 1, 'Apoptosis': 1, 'BID': 1, 'BclxL': 0, 'CREB': 0, 'CTLA4': 0, 'Caspase': 1, 'Ceramide': 0, 'Cytoskeleton_signaling': 0, 'DISC': 0, 'ERK': 0, 'FLIP': 1, 'FYN': 0, 'Fas': 0, 'FasL': 1, 'FasT': 1, 'GAP': 1, 'GPCR': 1, 'GRB2': 0, 'GZMB': 1, 'IAP': 0, 'IFNG': 0, 'IFNGT': 1, 'IL15': 0, 'IL2': 0, 'IL2RA': 0, 'IL2RAT': 0, 'IL2RB': 0, 'IL2RBT': 0, 'JAK': 'X', 'LCK': 0, 'MCL1': 0, 'MEK': 0, 'NFAT': 1, 'NFKB': 1, 'P2': 1, 'P27': 'X', 'PDGF': 0, 'PDGFR': 1, 'PI3K': 1, 'PLCG1': 1, 'Proliferation': 'X', 'RANTES': 1, 'RAS': 0, 'S1P': 1, 'SMAD': 1, 'SOCS': 'X', 'SPHK1': 1, 'STAT3': 'X', 'Stimuli': 0, 'TBET': 1, 'TCR': 0, 'TNF': 1, 'TPL2': 1, 'TRADD': 0, 'ZAP70': 0, 'sFas': 1}\n",
      "\n",
      "{'A20': 0, 'Apoptosis': 0, 'BID': 0, 'BclxL': 0, 'CREB': 0, 'CTLA4': 0, 'Caspase': 0, 'Ceramide': 0, 'Cytoskeleton_signaling': 0, 'DISC': 0, 'ERK': 0, 'FLIP': 0, 'FYN': 0, 'Fas': 0, 'FasL': 0, 'FasT': 0, 'GAP': 0, 'GPCR': 0, 'GRB2': 0, 'GZMB': 0, 'IAP': 0, 'IFNG': 0, 'IFNGT': 0, 'IL15': 0, 'IL2': 0, 'IL2RA': 0, 'IL2RAT': 0, 'IL2RB': 0, 'IL2RBT': 0, 'JAK': 0, 'LCK': 0, 'MCL1': 0, 'MEK': 0, 'NFAT': 0, 'NFKB': 0, 'P2': 1, 'P27': 0, 'PDGF': 0, 'PDGFR': 0, 'PI3K': 0, 'PLCG1': 0, 'Proliferation': 0, 'RANTES': 0, 'RAS': 0, 'S1P': 0, 'SMAD': 0, 'SOCS': 0, 'SPHK1': 0, 'STAT3': 0, 'Stimuli': 0, 'TBET': 0, 'TCR': 0, 'TNF': 0, 'TPL2': 0, 'TRADD': 0, 'ZAP70': 0, 'sFas': 0}\n",
      "\n",
      "{'A20': 0, 'Apoptosis': 1, 'BID': 1, 'BclxL': 0, 'CREB': 0, 'CTLA4': 0, 'Caspase': 1, 'Ceramide': 0, 'Cytoskeleton_signaling': 0, 'DISC': 0, 'ERK': 0, 'FLIP': 0, 'FYN': 0, 'Fas': 0, 'FasL': 0, 'FasT': 0, 'GAP': 0, 'GPCR': 0, 'GRB2': 0, 'GZMB': 1, 'IAP': 0, 'IFNG': 0, 'IFNGT': 1, 'IL15': 0, 'IL2': 0, 'IL2RA': 0, 'IL2RAT': 0, 'IL2RB': 0, 'IL2RBT': 0, 'JAK': 0, 'LCK': 0, 'MCL1': 0, 'MEK': 0, 'NFAT': 0, 'NFKB': 0, 'P2': 0, 'P27': 0, 'PDGF': 0, 'PDGFR': 0, 'PI3K': 0, 'PLCG1': 0, 'Proliferation': 0, 'RANTES': 0, 'RAS': 0, 'S1P': 0, 'SMAD': 0, 'SOCS': 0, 'SPHK1': 0, 'STAT3': 0, 'Stimuli': 0, 'TBET': 1, 'TCR': 0, 'TNF': 0, 'TPL2': 0, 'TRADD': 0, 'ZAP70': 0, 'sFas': 0}\n",
      "\n",
      "{'A20': 1, 'Apoptosis': 1, 'BID': 1, 'BclxL': 0, 'CREB': 0, 'CTLA4': 0, 'Caspase': 1, 'Ceramide': 0, 'Cytoskeleton_signaling': 0, 'DISC': 0, 'ERK': 0, 'FLIP': 1, 'FYN': 0, 'Fas': 0, 'FasL': 1, 'FasT': 1, 'GAP': 1, 'GPCR': 1, 'GRB2': 0, 'GZMB': 1, 'IAP': 0, 'IFNG': 0, 'IFNGT': 1, 'IL15': 0, 'IL2': 0, 'IL2RA': 0, 'IL2RAT': 0, 'IL2RB': 0, 'IL2RBT': 0, 'JAK': 'X', 'LCK': 0, 'MCL1': 0, 'MEK': 0, 'NFAT': 1, 'NFKB': 1, 'P2': 0, 'P27': 'X', 'PDGF': 0, 'PDGFR': 1, 'PI3K': 1, 'PLCG1': 1, 'Proliferation': 'X', 'RANTES': 1, 'RAS': 0, 'S1P': 1, 'SMAD': 1, 'SOCS': 'X', 'SPHK1': 1, 'STAT3': 'X', 'Stimuli': 0, 'TBET': 1, 'TCR': 0, 'TNF': 1, 'TPL2': 1, 'TRADD': 0, 'ZAP70': 0, 'sFas': 1}\n",
      "\n",
      "{'A20': 0, 'Apoptosis': 0, 'BID': 0, 'BclxL': 0, 'CREB': 0, 'CTLA4': 0, 'Caspase': 0, 'Ceramide': 0, 'Cytoskeleton_signaling': 0, 'DISC': 0, 'ERK': 0, 'FLIP': 0, 'FYN': 0, 'Fas': 0, 'FasL': 0, 'FasT': 0, 'GAP': 0, 'GPCR': 0, 'GRB2': 0, 'GZMB': 0, 'IAP': 0, 'IFNG': 0, 'IFNGT': 0, 'IL15': 0, 'IL2': 0, 'IL2RA': 0, 'IL2RAT': 0, 'IL2RB': 0, 'IL2RBT': 0, 'JAK': 0, 'LCK': 0, 'MCL1': 0, 'MEK': 0, 'NFAT': 0, 'NFKB': 0, 'P2': 0, 'P27': 0, 'PDGF': 0, 'PDGFR': 0, 'PI3K': 0, 'PLCG1': 0, 'Proliferation': 0, 'RANTES': 0, 'RAS': 0, 'S1P': 0, 'SMAD': 0, 'SOCS': 0, 'SPHK1': 0, 'STAT3': 0, 'Stimuli': 0, 'TBET': 0, 'TCR': 0, 'TNF': 0, 'TPL2': 0, 'TRADD': 0, 'ZAP70': 0, 'sFas': 0}\n",
      "\n",
      "{'A20': '?', 'Apoptosis': 1, 'BID': 1, 'BclxL': 0, 'CREB': 0, 'CTLA4': '?', 'Caspase': 1, 'Ceramide': '?', 'Cytoskeleton_signaling': '?', 'DISC': '?', 'ERK': '?', 'FLIP': '?', 'FYN': '?', 'Fas': '?', 'FasL': '?', 'FasT': '?', 'GAP': '?', 'GPCR': 0, 'GRB2': '?', 'GZMB': 1, 'IAP': 0, 'IFNG': 0, 'IFNGT': 1, 'IL15': 0, 'IL2': 0, 'IL2RA': 0, 'IL2RAT': 0, 'IL2RB': 0, 'IL2RBT': '?', 'JAK': '?', 'LCK': '?', 'MCL1': 0, 'MEK': '?', 'NFAT': '?', 'NFKB': '?', 'P2': 1, 'P27': '?', 'PDGF': 0, 'PDGFR': 0, 'PI3K': '?', 'PLCG1': '?', 'Proliferation': '?', 'RANTES': '?', 'RAS': '?', 'S1P': 0, 'SMAD': 0, 'SOCS': '?', 'SPHK1': 0, 'STAT3': '?', 'Stimuli': 1, 'TBET': 1, 'TCR': '?', 'TNF': '?', 'TPL2': '?', 'TRADD': '?', 'ZAP70': '?', 'sFas': 0}\n",
      "\n",
      "{'A20': 1, 'Apoptosis': 1, 'BID': 1, 'BclxL': 0, 'CREB': 0, 'CTLA4': 'X', 'Caspase': 1, 'Ceramide': 0, 'Cytoskeleton_signaling': 'X', 'DISC': 0, 'ERK': 0, 'FLIP': 1, 'FYN': 'X', 'Fas': 0, 'FasL': 1, 'FasT': 1, 'GAP': 1, 'GPCR': 1, 'GRB2': 'X', 'GZMB': 1, 'IAP': 0, 'IFNG': 0, 'IFNGT': 1, 'IL15': 0, 'IL2': 0, 'IL2RA': 0, 'IL2RAT': 0, 'IL2RB': 0, 'IL2RBT': 0, 'JAK': 'X', 'LCK': 'X', 'MCL1': 0, 'MEK': 0, 'NFAT': 1, 'NFKB': 1, 'P2': 1, 'P27': 'X', 'PDGF': 0, 'PDGFR': 1, 'PI3K': 1, 'PLCG1': 1, 'Proliferation': 'X', 'RANTES': 1, 'RAS': 0, 'S1P': 1, 'SMAD': 1, 'SOCS': 'X', 'SPHK1': 1, 'STAT3': 'X', 'Stimuli': 1, 'TBET': 1, 'TCR': 'X', 'TNF': 1, 'TPL2': 1, 'TRADD': 0, 'ZAP70': 'X', 'sFas': 1}\n",
      "\n",
      "{'A20': '!', 'Apoptosis': '!', 'BID': '!', 'BclxL': '!', 'CREB': 0, 'CTLA4': '!', 'Caspase': '!', 'Ceramide': '!', 'Cytoskeleton_signaling': '!', 'DISC': '!', 'ERK': '!', 'FLIP': '!', 'FYN': '!', 'Fas': '!', 'FasL': '!', 'FasT': '!', 'GAP': '!', 'GPCR': 0, 'GRB2': '!', 'GZMB': 0, 'IAP': '!', 'IFNG': 0, 'IFNGT': '!', 'IL15': 0, 'IL2': '!', 'IL2RA': '!', 'IL2RAT': '!', 'IL2RB': 0, 'IL2RBT': 0, 'JAK': 0, 'LCK': '!', 'MCL1': 0, 'MEK': '!', 'NFAT': '!', 'NFKB': '!', 'P2': 1, 'P27': 0, 'PDGF': 0, 'PDGFR': 0, 'PI3K': '!', 'PLCG1': '!', 'Proliferation': 0, 'RANTES': '!', 'RAS': '!', 'S1P': 0, 'SMAD': 0, 'SOCS': 0, 'SPHK1': 0, 'STAT3': 0, 'Stimuli': 1, 'TBET': 0, 'TCR': '!', 'TNF': '!', 'TPL2': '!', 'TRADD': '!', 'ZAP70': '!', 'sFas': 0}\n",
      "\n",
      "{'A20': 1, 'Apoptosis': 1, 'BID': 1, 'BclxL': 0, 'CREB': 0, 'CTLA4': 'X', 'Caspase': 1, 'Ceramide': 0, 'Cytoskeleton_signaling': 'X', 'DISC': 0, 'ERK': 0, 'FLIP': 1, 'FYN': 'X', 'Fas': 0, 'FasL': 1, 'FasT': 1, 'GAP': 1, 'GPCR': 1, 'GRB2': 'X', 'GZMB': 1, 'IAP': 0, 'IFNG': 0, 'IFNGT': 1, 'IL15': 0, 'IL2': 0, 'IL2RA': 0, 'IL2RAT': 0, 'IL2RB': 0, 'IL2RBT': 0, 'JAK': 'X', 'LCK': 'X', 'MCL1': 0, 'MEK': 0, 'NFAT': 1, 'NFKB': 1, 'P2': 0, 'P27': 'X', 'PDGF': 0, 'PDGFR': 1, 'PI3K': 1, 'PLCG1': 1, 'Proliferation': 'X', 'RANTES': 1, 'RAS': 0, 'S1P': 1, 'SMAD': 1, 'SOCS': 'X', 'SPHK1': 1, 'STAT3': 'X', 'Stimuli': 1, 'TBET': 1, 'TCR': 'X', 'TNF': 1, 'TPL2': 1, 'TRADD': 0, 'ZAP70': 'X', 'sFas': 1}\n",
      "\n",
      "{'A20': '!', 'Apoptosis': '!', 'BID': '!', 'BclxL': '!', 'CREB': 0, 'CTLA4': '!', 'Caspase': '!', 'Ceramide': '!', 'Cytoskeleton_signaling': '!', 'DISC': '!', 'ERK': '!', 'FLIP': '!', 'FYN': '!', 'Fas': '!', 'FasL': '!', 'FasT': '!', 'GAP': '!', 'GPCR': 0, 'GRB2': '!', 'GZMB': 0, 'IAP': '!', 'IFNG': 0, 'IFNGT': '!', 'IL15': 0, 'IL2': '!', 'IL2RA': '!', 'IL2RAT': '!', 'IL2RB': 0, 'IL2RBT': 0, 'JAK': 0, 'LCK': '!', 'MCL1': 0, 'MEK': '!', 'NFAT': '!', 'NFKB': '!', 'P2': 0, 'P27': 0, 'PDGF': 0, 'PDGFR': 0, 'PI3K': '!', 'PLCG1': '!', 'Proliferation': 0, 'RANTES': '!', 'RAS': '!', 'S1P': 0, 'SMAD': 0, 'SOCS': 0, 'SPHK1': 0, 'STAT3': 0, 'Stimuli': 1, 'TBET': 0, 'TCR': '!', 'TNF': '!', 'TPL2': '!', 'TRADD': '!', 'ZAP70': '!', 'sFas': 0}\n",
      "\n",
      "{'A20': 1, 'Apoptosis': 1, 'BID': 1, 'BclxL': 0, 'CREB': 0, 'CTLA4': 0, 'Caspase': 1, 'Ceramide': 0, 'Cytoskeleton_signaling': 0, 'DISC': 0, 'ERK': 0, 'FLIP': 1, 'FYN': 0, 'Fas': 0, 'FasL': 1, 'FasT': 1, 'GAP': 1, 'GPCR': 1, 'GRB2': 0, 'GZMB': 1, 'IAP': 0, 'IFNG': 0, 'IFNGT': 1, 'IL15': 0, 'IL2': 0, 'IL2RA': 0, 'IL2RAT': 0, 'IL2RB': 0, 'IL2RBT': 0, 'JAK': 'X', 'LCK': 0, 'MCL1': 0, 'MEK': 0, 'NFAT': 1, 'NFKB': 1, 'P2': 1, 'P27': 'X', 'PDGF': 1, 'PDGFR': 1, 'PI3K': 1, 'PLCG1': 1, 'Proliferation': 'X', 'RANTES': 1, 'RAS': 0, 'S1P': 1, 'SMAD': 1, 'SOCS': 'X', 'SPHK1': 1, 'STAT3': 'X', 'Stimuli': 0, 'TBET': 1, 'TCR': 0, 'TNF': 1, 'TPL2': 1, 'TRADD': 0, 'ZAP70': 0, 'sFas': 1}\n",
      "\n",
      "{'A20': 1, 'Apoptosis': 1, 'BID': 1, 'BclxL': 0, 'CREB': 0, 'CTLA4': 0, 'Caspase': 1, 'Ceramide': 1, 'Cytoskeleton_signaling': 0, 'DISC': 1, 'ERK': 0, 'FLIP': 0, 'FYN': 0, 'Fas': 1, 'FasL': 1, 'FasT': 1, 'GAP': 1, 'GPCR': 0, 'GRB2': 0, 'GZMB': 1, 'IAP': 0, 'IFNG': 0, 'IFNGT': 1, 'IL15': 0, 'IL2': 0, 'IL2RA': 0, 'IL2RAT': 0, 'IL2RB': 0, 'IL2RBT': 0, 'JAK': 'X', 'LCK': 0, 'MCL1': 0, 'MEK': 0, 'NFAT': 1, 'NFKB': 1, 'P2': 1, 'P27': 'X', 'PDGF': 1, 'PDGFR': 1, 'PI3K': 1, 'PLCG1': 1, 'Proliferation': 'X', 'RANTES': 1, 'RAS': 0, 'S1P': 0, 'SMAD': 0, 'SOCS': 'X', 'SPHK1': 1, 'STAT3': 'X', 'Stimuli': 0, 'TBET': 1, 'TCR': 0, 'TNF': 1, 'TPL2': 1, 'TRADD': 0, 'ZAP70': 0, 'sFas': 0}\n",
      "\n",
      "{'A20': 1, 'Apoptosis': 1, 'BID': 1, 'BclxL': 0, 'CREB': 0, 'CTLA4': 0, 'Caspase': 1, 'Ceramide': 0, 'Cytoskeleton_signaling': 0, 'DISC': 0, 'ERK': 0, 'FLIP': 1, 'FYN': 0, 'Fas': 0, 'FasL': 1, 'FasT': 1, 'GAP': 1, 'GPCR': 1, 'GRB2': 0, 'GZMB': 1, 'IAP': 0, 'IFNG': 0, 'IFNGT': 1, 'IL15': 0, 'IL2': 0, 'IL2RA': 0, 'IL2RAT': 0, 'IL2RB': 0, 'IL2RBT': 0, 'JAK': 'X', 'LCK': 0, 'MCL1': 0, 'MEK': 0, 'NFAT': 1, 'NFKB': 1, 'P2': 0, 'P27': 'X', 'PDGF': 1, 'PDGFR': 1, 'PI3K': 1, 'PLCG1': 1, 'Proliferation': 'X', 'RANTES': 1, 'RAS': 0, 'S1P': 1, 'SMAD': 1, 'SOCS': 'X', 'SPHK1': 1, 'STAT3': 'X', 'Stimuli': 0, 'TBET': 1, 'TCR': 0, 'TNF': 1, 'TPL2': 1, 'TRADD': 0, 'ZAP70': 0, 'sFas': 1}\n",
      "\n",
      "{'A20': 1, 'Apoptosis': 1, 'BID': 1, 'BclxL': 0, 'CREB': 0, 'CTLA4': 0, 'Caspase': 1, 'Ceramide': 1, 'Cytoskeleton_signaling': 0, 'DISC': 1, 'ERK': 0, 'FLIP': 0, 'FYN': 0, 'Fas': 1, 'FasL': 1, 'FasT': 1, 'GAP': 1, 'GPCR': 0, 'GRB2': 0, 'GZMB': 1, 'IAP': 0, 'IFNG': 0, 'IFNGT': 1, 'IL15': 0, 'IL2': 0, 'IL2RA': 0, 'IL2RAT': 0, 'IL2RB': 0, 'IL2RBT': 0, 'JAK': 'X', 'LCK': 0, 'MCL1': 0, 'MEK': 0, 'NFAT': 1, 'NFKB': 1, 'P2': 0, 'P27': 'X', 'PDGF': 1, 'PDGFR': 1, 'PI3K': 1, 'PLCG1': 1, 'Proliferation': 'X', 'RANTES': 1, 'RAS': 0, 'S1P': 0, 'SMAD': 0, 'SOCS': 'X', 'SPHK1': 1, 'STAT3': 'X', 'Stimuli': 0, 'TBET': 1, 'TCR': 0, 'TNF': 1, 'TPL2': 1, 'TRADD': 0, 'ZAP70': 0, 'sFas': 0}\n",
      "\n",
      "{'A20': 1, 'Apoptosis': 1, 'BID': 1, 'BclxL': 0, 'CREB': 0, 'CTLA4': 'X', 'Caspase': 1, 'Ceramide': 0, 'Cytoskeleton_signaling': 'X', 'DISC': 0, 'ERK': 0, 'FLIP': 1, 'FYN': 'X', 'Fas': 0, 'FasL': 1, 'FasT': 1, 'GAP': 1, 'GPCR': 1, 'GRB2': 'X', 'GZMB': 1, 'IAP': 0, 'IFNG': 0, 'IFNGT': 1, 'IL15': 0, 'IL2': 0, 'IL2RA': 0, 'IL2RAT': 0, 'IL2RB': 0, 'IL2RBT': 0, 'JAK': 'X', 'LCK': 'X', 'MCL1': 0, 'MEK': 0, 'NFAT': 1, 'NFKB': 1, 'P2': 1, 'P27': 'X', 'PDGF': 1, 'PDGFR': 1, 'PI3K': 1, 'PLCG1': 1, 'Proliferation': 'X', 'RANTES': 1, 'RAS': 0, 'S1P': 1, 'SMAD': 1, 'SOCS': 'X', 'SPHK1': 1, 'STAT3': 'X', 'Stimuli': 1, 'TBET': 1, 'TCR': 'X', 'TNF': 1, 'TPL2': 1, 'TRADD': 0, 'ZAP70': 'X', 'sFas': 1}\n",
      "\n",
      "{'A20': 1, 'Apoptosis': 1, 'BID': 1, 'BclxL': 0, 'CREB': 0, 'CTLA4': 'X', 'Caspase': 1, 'Ceramide': 1, 'Cytoskeleton_signaling': 'X', 'DISC': 1, 'ERK': 0, 'FLIP': 0, 'FYN': 'X', 'Fas': 1, 'FasL': 1, 'FasT': 1, 'GAP': 1, 'GPCR': 0, 'GRB2': 'X', 'GZMB': 1, 'IAP': 0, 'IFNG': 0, 'IFNGT': 1, 'IL15': 0, 'IL2': 0, 'IL2RA': 0, 'IL2RAT': 0, 'IL2RB': 0, 'IL2RBT': 0, 'JAK': 'X', 'LCK': 'X', 'MCL1': 0, 'MEK': 0, 'NFAT': 1, 'NFKB': 1, 'P2': 1, 'P27': 'X', 'PDGF': 1, 'PDGFR': 1, 'PI3K': 1, 'PLCG1': 1, 'Proliferation': 'X', 'RANTES': 1, 'RAS': 0, 'S1P': 0, 'SMAD': 0, 'SOCS': 'X', 'SPHK1': 1, 'STAT3': 'X', 'Stimuli': 1, 'TBET': 1, 'TCR': 'X', 'TNF': 1, 'TPL2': 1, 'TRADD': 0, 'ZAP70': 'X', 'sFas': 0}\n",
      "\n",
      "{'A20': 1, 'Apoptosis': 1, 'BID': 1, 'BclxL': 0, 'CREB': 0, 'CTLA4': 'X', 'Caspase': 1, 'Ceramide': 0, 'Cytoskeleton_signaling': 'X', 'DISC': 0, 'ERK': 0, 'FLIP': 1, 'FYN': 'X', 'Fas': 0, 'FasL': 1, 'FasT': 1, 'GAP': 1, 'GPCR': 1, 'GRB2': 'X', 'GZMB': 1, 'IAP': 0, 'IFNG': 0, 'IFNGT': 1, 'IL15': 0, 'IL2': 0, 'IL2RA': 0, 'IL2RAT': 0, 'IL2RB': 0, 'IL2RBT': 0, 'JAK': 'X', 'LCK': 'X', 'MCL1': 0, 'MEK': 0, 'NFAT': 1, 'NFKB': 1, 'P2': 0, 'P27': 'X', 'PDGF': 1, 'PDGFR': 1, 'PI3K': 1, 'PLCG1': 1, 'Proliferation': 'X', 'RANTES': 1, 'RAS': 0, 'S1P': 1, 'SMAD': 1, 'SOCS': 'X', 'SPHK1': 1, 'STAT3': 'X', 'Stimuli': 1, 'TBET': 1, 'TCR': 'X', 'TNF': 1, 'TPL2': 1, 'TRADD': 0, 'ZAP70': 'X', 'sFas': 1}\n",
      "\n",
      "{'A20': 1, 'Apoptosis': 1, 'BID': 1, 'BclxL': 0, 'CREB': 0, 'CTLA4': 0, 'Caspase': 1, 'Ceramide': 1, 'Cytoskeleton_signaling': 1, 'DISC': 1, 'ERK': 1, 'FLIP': 0, 'FYN': 1, 'Fas': 1, 'FasL': 1, 'FasT': 1, 'GAP': 0, 'GPCR': 0, 'GRB2': 1, 'GZMB': 1, 'IAP': 0, 'IFNG': 0, 'IFNGT': 1, 'IL15': 1, 'IL2': 0, 'IL2RA': 0, 'IL2RAT': 0, 'IL2RB': 1, 'IL2RBT': 1, 'JAK': 1, 'LCK': 1, 'MCL1': 0, 'MEK': 1, 'NFAT': 1, 'NFKB': 1, 'P2': 1, 'P27': 1, 'PDGF': 0, 'PDGFR': 0, 'PI3K': 1, 'PLCG1': 1, 'Proliferation': 0, 'RANTES': 1, 'RAS': 1, 'S1P': 0, 'SMAD': 0, 'SOCS': 0, 'SPHK1': 0, 'STAT3': 1, 'Stimuli': 0, 'TBET': 1, 'TCR': 0, 'TNF': 1, 'TPL2': 1, 'TRADD': 0, 'ZAP70': 0, 'sFas': 0}\n",
      "\n",
      "{'A20': 0, 'Apoptosis': 1, 'BID': 1, 'BclxL': 0, 'CREB': 0, 'CTLA4': 0, 'Caspase': 1, 'Ceramide': 0, 'Cytoskeleton_signaling': 0, 'DISC': 0, 'ERK': 0, 'FLIP': 0, 'FYN': 0, 'Fas': 0, 'FasL': 0, 'FasT': 0, 'GAP': 0, 'GPCR': 0, 'GRB2': 0, 'GZMB': 1, 'IAP': 0, 'IFNG': 0, 'IFNGT': 1, 'IL15': 1, 'IL2': 0, 'IL2RA': 0, 'IL2RAT': 0, 'IL2RB': 0, 'IL2RBT': 0, 'JAK': 0, 'LCK': 0, 'MCL1': 0, 'MEK': 0, 'NFAT': 0, 'NFKB': 0, 'P2': 1, 'P27': 0, 'PDGF': 0, 'PDGFR': 0, 'PI3K': 0, 'PLCG1': 0, 'Proliferation': 0, 'RANTES': 0, 'RAS': 0, 'S1P': 0, 'SMAD': 0, 'SOCS': 0, 'SPHK1': 0, 'STAT3': 0, 'Stimuli': 0, 'TBET': 1, 'TCR': 0, 'TNF': 0, 'TPL2': 0, 'TRADD': 0, 'ZAP70': 0, 'sFas': 0}\n",
      "\n",
      "{'A20': 1, 'Apoptosis': 0, 'BID': 0, 'BclxL': 0, 'CREB': 0, 'CTLA4': 0, 'Caspase': 0, 'Ceramide': 0, 'Cytoskeleton_signaling': 1, 'DISC': 0, 'ERK': 1, 'FLIP': 1, 'FYN': 1, 'Fas': 0, 'FasL': 1, 'FasT': 1, 'GAP': 0, 'GPCR': 1, 'GRB2': 1, 'GZMB': 1, 'IAP': 1, 'IFNG': 0, 'IFNGT': 1, 'IL15': 1, 'IL2': 0, 'IL2RA': 0, 'IL2RAT': 0, 'IL2RB': 1, 'IL2RBT': 1, 'JAK': 1, 'LCK': 1, 'MCL1': 1, 'MEK': 1, 'NFAT': 1, 'NFKB': 1, 'P2': 1, 'P27': 1, 'PDGF': 0, 'PDGFR': 1, 'PI3K': 1, 'PLCG1': 1, 'Proliferation': 0, 'RANTES': 1, 'RAS': 1, 'S1P': 1, 'SMAD': 1, 'SOCS': 0, 'SPHK1': 1, 'STAT3': 1, 'Stimuli': 0, 'TBET': 1, 'TCR': 0, 'TNF': 1, 'TPL2': 1, 'TRADD': 0, 'ZAP70': 0, 'sFas': 1}\n",
      "\n",
      "{'A20': 0, 'Apoptosis': 0, 'BID': 0, 'BclxL': 0, 'CREB': 0, 'CTLA4': 0, 'Caspase': 0, 'Ceramide': 0, 'Cytoskeleton_signaling': 0, 'DISC': 0, 'ERK': 0, 'FLIP': 0, 'FYN': 0, 'Fas': 0, 'FasL': 0, 'FasT': 0, 'GAP': 0, 'GPCR': 0, 'GRB2': 0, 'GZMB': 0, 'IAP': 0, 'IFNG': 0, 'IFNGT': 0, 'IL15': 1, 'IL2': 0, 'IL2RA': 0, 'IL2RAT': 0, 'IL2RB': 0, 'IL2RBT': 0, 'JAK': 0, 'LCK': 0, 'MCL1': 0, 'MEK': 0, 'NFAT': 0, 'NFKB': 0, 'P2': 1, 'P27': 0, 'PDGF': 0, 'PDGFR': 0, 'PI3K': 0, 'PLCG1': 0, 'Proliferation': 0, 'RANTES': 0, 'RAS': 0, 'S1P': 0, 'SMAD': 0, 'SOCS': 0, 'SPHK1': 0, 'STAT3': 0, 'Stimuli': 0, 'TBET': 0, 'TCR': 0, 'TNF': 0, 'TPL2': 0, 'TRADD': 0, 'ZAP70': 0, 'sFas': 0}\n",
      "\n",
      "{'A20': 1, 'Apoptosis': 0, 'BID': 0, 'BclxL': 0, 'CREB': 0, 'CTLA4': 0, 'Caspase': 0, 'Ceramide': 0, 'Cytoskeleton_signaling': 1, 'DISC': 0, 'ERK': 1, 'FLIP': 1, 'FYN': 1, 'Fas': 0, 'FasL': 1, 'FasT': 1, 'GAP': 0, 'GPCR': 1, 'GRB2': 1, 'GZMB': 1, 'IAP': 1, 'IFNG': 0, 'IFNGT': 1, 'IL15': 1, 'IL2': 0, 'IL2RA': 0, 'IL2RAT': 0, 'IL2RB': 1, 'IL2RBT': 1, 'JAK': 1, 'LCK': 1, 'MCL1': 1, 'MEK': 1, 'NFAT': 1, 'NFKB': 1, 'P2': 0, 'P27': 1, 'PDGF': 0, 'PDGFR': 1, 'PI3K': 1, 'PLCG1': 1, 'Proliferation': 0, 'RANTES': 1, 'RAS': 1, 'S1P': 1, 'SMAD': 1, 'SOCS': 0, 'SPHK1': 1, 'STAT3': 1, 'Stimuli': 0, 'TBET': 1, 'TCR': 0, 'TNF': 1, 'TPL2': 1, 'TRADD': 0, 'ZAP70': 0, 'sFas': 1}\n",
      "\n",
      "{'A20': 0, 'Apoptosis': 0, 'BID': 0, 'BclxL': 0, 'CREB': 0, 'CTLA4': 0, 'Caspase': 0, 'Ceramide': 0, 'Cytoskeleton_signaling': 0, 'DISC': 0, 'ERK': 0, 'FLIP': 0, 'FYN': 0, 'Fas': 0, 'FasL': 0, 'FasT': 0, 'GAP': 0, 'GPCR': 0, 'GRB2': 0, 'GZMB': 0, 'IAP': 0, 'IFNG': 0, 'IFNGT': 0, 'IL15': 1, 'IL2': 0, 'IL2RA': 0, 'IL2RAT': 0, 'IL2RB': 0, 'IL2RBT': 0, 'JAK': 0, 'LCK': 0, 'MCL1': 0, 'MEK': 0, 'NFAT': 0, 'NFKB': 0, 'P2': 0, 'P27': 0, 'PDGF': 0, 'PDGFR': 0, 'PI3K': 0, 'PLCG1': 0, 'Proliferation': 0, 'RANTES': 0, 'RAS': 0, 'S1P': 0, 'SMAD': 0, 'SOCS': 0, 'SPHK1': 0, 'STAT3': 0, 'Stimuli': 0, 'TBET': 0, 'TCR': 0, 'TNF': 0, 'TPL2': 0, 'TRADD': 0, 'ZAP70': 0, 'sFas': 0}\n",
      "\n",
      "{'A20': 1, 'Apoptosis': 1, 'BID': 1, 'BclxL': 0, 'CREB': 0, 'CTLA4': 'X', 'Caspase': 1, 'Ceramide': 1, 'Cytoskeleton_signaling': 1, 'DISC': 1, 'ERK': 1, 'FLIP': 0, 'FYN': 1, 'Fas': 1, 'FasL': 1, 'FasT': 1, 'GAP': 0, 'GPCR': 0, 'GRB2': 1, 'GZMB': 1, 'IAP': 0, 'IFNG': 0, 'IFNGT': 1, 'IL15': 1, 'IL2': 0, 'IL2RA': 0, 'IL2RAT': 0, 'IL2RB': 1, 'IL2RBT': 1, 'JAK': 1, 'LCK': 1, 'MCL1': 0, 'MEK': 1, 'NFAT': 1, 'NFKB': 1, 'P2': 1, 'P27': 1, 'PDGF': 0, 'PDGFR': 0, 'PI3K': 1, 'PLCG1': 1, 'Proliferation': 0, 'RANTES': 1, 'RAS': 1, 'S1P': 0, 'SMAD': 0, 'SOCS': 0, 'SPHK1': 0, 'STAT3': 1, 'Stimuli': 1, 'TBET': 1, 'TCR': 'X', 'TNF': 1, 'TPL2': 1, 'TRADD': 0, 'ZAP70': 0, 'sFas': 0}\n",
      "\n",
      "{'A20': 1, 'Apoptosis': 0, 'BID': 0, 'BclxL': 0, 'CREB': 0, 'CTLA4': 'X', 'Caspase': 0, 'Ceramide': 0, 'Cytoskeleton_signaling': 1, 'DISC': 0, 'ERK': 1, 'FLIP': 1, 'FYN': 1, 'Fas': 0, 'FasL': 1, 'FasT': 1, 'GAP': 0, 'GPCR': 1, 'GRB2': 1, 'GZMB': 1, 'IAP': 1, 'IFNG': 0, 'IFNGT': 1, 'IL15': 1, 'IL2': 0, 'IL2RA': 0, 'IL2RAT': 0, 'IL2RB': 1, 'IL2RBT': 1, 'JAK': 1, 'LCK': 1, 'MCL1': 1, 'MEK': 1, 'NFAT': 1, 'NFKB': 1, 'P2': 1, 'P27': 1, 'PDGF': 0, 'PDGFR': 1, 'PI3K': 1, 'PLCG1': 1, 'Proliferation': 0, 'RANTES': 1, 'RAS': 1, 'S1P': 1, 'SMAD': 1, 'SOCS': 0, 'SPHK1': 1, 'STAT3': 1, 'Stimuli': 1, 'TBET': 1, 'TCR': 'X', 'TNF': 1, 'TPL2': 1, 'TRADD': 0, 'ZAP70': 0, 'sFas': 1}\n",
      "\n",
      "{'A20': 1, 'Apoptosis': 0, 'BID': 0, 'BclxL': 0, 'CREB': 0, 'CTLA4': 'X', 'Caspase': 0, 'Ceramide': 0, 'Cytoskeleton_signaling': 1, 'DISC': 0, 'ERK': 1, 'FLIP': 1, 'FYN': 1, 'Fas': 0, 'FasL': 1, 'FasT': 1, 'GAP': 0, 'GPCR': 1, 'GRB2': 1, 'GZMB': 1, 'IAP': 1, 'IFNG': 0, 'IFNGT': 1, 'IL15': 1, 'IL2': 0, 'IL2RA': 0, 'IL2RAT': 0, 'IL2RB': 1, 'IL2RBT': 1, 'JAK': 1, 'LCK': 1, 'MCL1': 1, 'MEK': 1, 'NFAT': 1, 'NFKB': 1, 'P2': 0, 'P27': 1, 'PDGF': 0, 'PDGFR': 1, 'PI3K': 1, 'PLCG1': 1, 'Proliferation': 0, 'RANTES': 1, 'RAS': 1, 'S1P': 1, 'SMAD': 1, 'SOCS': 0, 'SPHK1': 1, 'STAT3': 1, 'Stimuli': 1, 'TBET': 1, 'TCR': 'X', 'TNF': 1, 'TPL2': 1, 'TRADD': 0, 'ZAP70': 0, 'sFas': 1}\n",
      "\n",
      "{'A20': 1, 'Apoptosis': 0, 'BID': 0, 'BclxL': 0, 'CREB': 0, 'CTLA4': 0, 'Caspase': 0, 'Ceramide': 0, 'Cytoskeleton_signaling': 1, 'DISC': 0, 'ERK': 1, 'FLIP': 1, 'FYN': 1, 'Fas': 0, 'FasL': 1, 'FasT': 1, 'GAP': 0, 'GPCR': 1, 'GRB2': 1, 'GZMB': 1, 'IAP': 1, 'IFNG': 0, 'IFNGT': 1, 'IL15': 1, 'IL2': 0, 'IL2RA': 0, 'IL2RAT': 0, 'IL2RB': 1, 'IL2RBT': 1, 'JAK': 1, 'LCK': 1, 'MCL1': 1, 'MEK': 1, 'NFAT': 1, 'NFKB': 1, 'P2': 1, 'P27': 1, 'PDGF': 1, 'PDGFR': 1, 'PI3K': 1, 'PLCG1': 1, 'Proliferation': 0, 'RANTES': 1, 'RAS': 1, 'S1P': 1, 'SMAD': 1, 'SOCS': 0, 'SPHK1': 1, 'STAT3': 1, 'Stimuli': 0, 'TBET': 1, 'TCR': 0, 'TNF': 1, 'TPL2': 1, 'TRADD': 0, 'ZAP70': 0, 'sFas': 1}\n",
      "\n",
      "{'A20': 1, 'Apoptosis': 1, 'BID': 1, 'BclxL': 0, 'CREB': 0, 'CTLA4': 0, 'Caspase': 1, 'Ceramide': 1, 'Cytoskeleton_signaling': 1, 'DISC': 1, 'ERK': 1, 'FLIP': 0, 'FYN': 1, 'Fas': 1, 'FasL': 1, 'FasT': 1, 'GAP': 0, 'GPCR': 0, 'GRB2': 1, 'GZMB': 1, 'IAP': 0, 'IFNG': 0, 'IFNGT': 1, 'IL15': 1, 'IL2': 0, 'IL2RA': 0, 'IL2RAT': 0, 'IL2RB': 1, 'IL2RBT': 1, 'JAK': 1, 'LCK': 1, 'MCL1': 0, 'MEK': 1, 'NFAT': 1, 'NFKB': 1, 'P2': 1, 'P27': 1, 'PDGF': 1, 'PDGFR': 1, 'PI3K': 1, 'PLCG1': 1, 'Proliferation': 0, 'RANTES': 1, 'RAS': 1, 'S1P': 0, 'SMAD': 0, 'SOCS': 0, 'SPHK1': 1, 'STAT3': 1, 'Stimuli': 0, 'TBET': 1, 'TCR': 0, 'TNF': 1, 'TPL2': 1, 'TRADD': 0, 'ZAP70': 0, 'sFas': 0}\n",
      "\n",
      "{'A20': 1, 'Apoptosis': 0, 'BID': 0, 'BclxL': 0, 'CREB': 0, 'CTLA4': 0, 'Caspase': 0, 'Ceramide': 0, 'Cytoskeleton_signaling': 1, 'DISC': 0, 'ERK': 1, 'FLIP': 1, 'FYN': 1, 'Fas': 0, 'FasL': 1, 'FasT': 1, 'GAP': 0, 'GPCR': 1, 'GRB2': 1, 'GZMB': 1, 'IAP': 1, 'IFNG': 0, 'IFNGT': 1, 'IL15': 1, 'IL2': 0, 'IL2RA': 0, 'IL2RAT': 0, 'IL2RB': 1, 'IL2RBT': 1, 'JAK': 1, 'LCK': 1, 'MCL1': 1, 'MEK': 1, 'NFAT': 1, 'NFKB': 1, 'P2': 0, 'P27': 1, 'PDGF': 1, 'PDGFR': 1, 'PI3K': 1, 'PLCG1': 1, 'Proliferation': 0, 'RANTES': 1, 'RAS': 1, 'S1P': 1, 'SMAD': 1, 'SOCS': 0, 'SPHK1': 1, 'STAT3': 1, 'Stimuli': 0, 'TBET': 1, 'TCR': 0, 'TNF': 1, 'TPL2': 1, 'TRADD': 0, 'ZAP70': 0, 'sFas': 1}\n",
      "\n",
      "{'A20': 1, 'Apoptosis': 0, 'BID': 0, 'BclxL': 0, 'CREB': 0, 'CTLA4': 'X', 'Caspase': 0, 'Ceramide': 0, 'Cytoskeleton_signaling': 1, 'DISC': 0, 'ERK': 1, 'FLIP': 1, 'FYN': 1, 'Fas': 0, 'FasL': 1, 'FasT': 1, 'GAP': 0, 'GPCR': 1, 'GRB2': 1, 'GZMB': 1, 'IAP': 1, 'IFNG': 0, 'IFNGT': 1, 'IL15': 1, 'IL2': 0, 'IL2RA': 0, 'IL2RAT': 0, 'IL2RB': 1, 'IL2RBT': 1, 'JAK': 1, 'LCK': 1, 'MCL1': 1, 'MEK': 1, 'NFAT': 1, 'NFKB': 1, 'P2': 1, 'P27': 1, 'PDGF': 1, 'PDGFR': 1, 'PI3K': 1, 'PLCG1': 1, 'Proliferation': 0, 'RANTES': 1, 'RAS': 1, 'S1P': 1, 'SMAD': 1, 'SOCS': 0, 'SPHK1': 1, 'STAT3': 1, 'Stimuli': 1, 'TBET': 1, 'TCR': 'X', 'TNF': 1, 'TPL2': 1, 'TRADD': 0, 'ZAP70': 0, 'sFas': 1}\n",
      "\n",
      "{'A20': 1, 'Apoptosis': 1, 'BID': 1, 'BclxL': 0, 'CREB': 0, 'CTLA4': 'X', 'Caspase': 1, 'Ceramide': 1, 'Cytoskeleton_signaling': 1, 'DISC': 1, 'ERK': 1, 'FLIP': 0, 'FYN': 1, 'Fas': 1, 'FasL': 1, 'FasT': 1, 'GAP': 0, 'GPCR': 0, 'GRB2': 1, 'GZMB': 1, 'IAP': 0, 'IFNG': 0, 'IFNGT': 1, 'IL15': 1, 'IL2': 0, 'IL2RA': 0, 'IL2RAT': 0, 'IL2RB': 1, 'IL2RBT': 1, 'JAK': 1, 'LCK': 1, 'MCL1': 0, 'MEK': 1, 'NFAT': 1, 'NFKB': 1, 'P2': 1, 'P27': 1, 'PDGF': 1, 'PDGFR': 1, 'PI3K': 1, 'PLCG1': 1, 'Proliferation': 0, 'RANTES': 1, 'RAS': 1, 'S1P': 0, 'SMAD': 0, 'SOCS': 0, 'SPHK1': 1, 'STAT3': 1, 'Stimuli': 1, 'TBET': 1, 'TCR': 'X', 'TNF': 1, 'TPL2': 1, 'TRADD': 0, 'ZAP70': 0, 'sFas': 0}\n",
      "\n",
      "{'A20': 1, 'Apoptosis': 0, 'BID': 0, 'BclxL': 0, 'CREB': 0, 'CTLA4': 'X', 'Caspase': 0, 'Ceramide': 0, 'Cytoskeleton_signaling': 1, 'DISC': 0, 'ERK': 1, 'FLIP': 1, 'FYN': 1, 'Fas': 0, 'FasL': 1, 'FasT': 1, 'GAP': 0, 'GPCR': 1, 'GRB2': 1, 'GZMB': 1, 'IAP': 1, 'IFNG': 0, 'IFNGT': 1, 'IL15': 1, 'IL2': 0, 'IL2RA': 0, 'IL2RAT': 0, 'IL2RB': 1, 'IL2RBT': 1, 'JAK': 1, 'LCK': 1, 'MCL1': 1, 'MEK': 1, 'NFAT': 1, 'NFKB': 1, 'P2': 0, 'P27': 1, 'PDGF': 1, 'PDGFR': 1, 'PI3K': 1, 'PLCG1': 1, 'Proliferation': 0, 'RANTES': 1, 'RAS': 1, 'S1P': 1, 'SMAD': 1, 'SOCS': 0, 'SPHK1': 1, 'STAT3': 1, 'Stimuli': 1, 'TBET': 1, 'TCR': 'X', 'TNF': 1, 'TPL2': 1, 'TRADD': 0, 'ZAP70': 0, 'sFas': 1}\n",
      "\n"
     ]
    }
   ],
   "source": [
    "ar = sm.AttractorRepertoire.from_primes(primes,max_simulate_size=20) # default simulate size\n",
    "ar.summary()"
   ]
  },
  {
   "cell_type": "markdown",
   "metadata": {},
   "source": [
    "### Attractor candidates\n",
    "We notice that there are two attractor candidates that the algorithm was not able to classify due to computational limits (i.e., because `max_simulate_size` is too low). Supposing that additional computational power is either not available or not helpful, we will take an algebraic approach, leveraging the metadata stored in the attractor repertoire object, `ar`.\n",
    "\n",
    "We will store these two attractors in the list `ca`."
   ]
  },
  {
   "cell_type": "code",
   "execution_count": 4,
   "metadata": {},
   "outputs": [
    {
     "name": "stdout",
     "output_type": "stream",
     "text": [
      "{'A20': '!', 'Apoptosis': '!', 'BID': '!', 'BclxL': '!', 'CREB': 0, 'CTLA4': '!', 'Caspase': '!', 'Ceramide': '!', 'Cytoskeleton_signaling': '!', 'DISC': '!', 'ERK': '!', 'FLIP': '!', 'FYN': '!', 'Fas': '!', 'FasL': '!', 'FasT': '!', 'GAP': '!', 'GPCR': 0, 'GRB2': '!', 'GZMB': 0, 'IAP': '!', 'IFNG': 0, 'IFNGT': '!', 'IL15': 0, 'IL2': '!', 'IL2RA': '!', 'IL2RAT': '!', 'IL2RB': 0, 'IL2RBT': 0, 'JAK': 0, 'LCK': '!', 'MCL1': 0, 'MEK': '!', 'NFAT': '!', 'NFKB': '!', 'P2': 1, 'P27': 0, 'PDGF': 0, 'PDGFR': 0, 'PI3K': '!', 'PLCG1': '!', 'Proliferation': 0, 'RANTES': '!', 'RAS': '!', 'S1P': 0, 'SMAD': 0, 'SOCS': 0, 'SPHK1': 0, 'STAT3': 0, 'Stimuli': 1, 'TBET': 0, 'TCR': '!', 'TNF': '!', 'TPL2': '!', 'TRADD': '!', 'ZAP70': '!', 'sFas': 0} \n",
      "\n",
      "{'A20': '!', 'Apoptosis': '!', 'BID': '!', 'BclxL': '!', 'CREB': 0, 'CTLA4': '!', 'Caspase': '!', 'Ceramide': '!', 'Cytoskeleton_signaling': '!', 'DISC': '!', 'ERK': '!', 'FLIP': '!', 'FYN': '!', 'Fas': '!', 'FasL': '!', 'FasT': '!', 'GAP': '!', 'GPCR': 0, 'GRB2': '!', 'GZMB': 0, 'IAP': '!', 'IFNG': 0, 'IFNGT': '!', 'IL15': 0, 'IL2': '!', 'IL2RA': '!', 'IL2RAT': '!', 'IL2RB': 0, 'IL2RBT': 0, 'JAK': 0, 'LCK': '!', 'MCL1': 0, 'MEK': '!', 'NFAT': '!', 'NFKB': '!', 'P2': 0, 'P27': 0, 'PDGF': 0, 'PDGFR': 0, 'PI3K': '!', 'PLCG1': '!', 'Proliferation': 0, 'RANTES': '!', 'RAS': '!', 'S1P': 0, 'SMAD': 0, 'SOCS': 0, 'SPHK1': 0, 'STAT3': 0, 'Stimuli': 1, 'TBET': 0, 'TCR': '!', 'TNF': '!', 'TPL2': '!', 'TRADD': '!', 'ZAP70': '!', 'sFas': 0} \n",
      "\n"
     ]
    }
   ],
   "source": [
    "ca = []\n",
    "for a in ar.attractors:\n",
    "    if not a.guaranteed: \n",
    "        ca.append(a)\n",
    "        print(a.attractor_dict,\"\\n\")"
   ]
  },
  {
   "cell_type": "markdown",
   "metadata": {},
   "source": [
    "This model has three source nodes: `PDGF`, `IL15`, and `Stimuli`. We will check what values of these nodes give rise to our candidate attractors."
   ]
  },
  {
   "cell_type": "code",
   "execution_count": 5,
   "metadata": {},
   "outputs": [
    {
     "name": "stdout",
     "output_type": "stream",
     "text": [
      "Source values for unexplored attractors:\n",
      "PDGF\tIL15\tStimuli\n",
      "0\t0\t1\n",
      "0\t0\t1\n"
     ]
    }
   ],
   "source": [
    "print(\"Source values for unexplored attractors:\")\n",
    "print(\"PDGF\\tIL15\\tStimuli\")\n",
    "for a in ca:\n",
    "    print(a.attractor_dict[\"PDGF\"],a.attractor_dict[\"IL15\"],a.attractor_dict[\"Stimuli\"],sep=\"\\t\")"
   ]
  },
  {
   "cell_type": "markdown",
   "metadata": {},
   "source": [
    "We extract representative MotifReduction objects from each candidate attractor."
   ]
  },
  {
   "cell_type": "code",
   "execution_count": 6,
   "metadata": {},
   "outputs": [],
   "source": [
    "mr0=ca[0].representative[0]\n",
    "mr1=ca[1].representative[0]"
   ]
  },
  {
   "cell_type": "markdown",
   "metadata": {},
   "source": [
    "The essential question is: do either of these reduced systems have motif-avoidant attractors?"
   ]
  },
  {
   "cell_type": "markdown",
   "metadata": {},
   "source": [
    "## Analyzing the first candidate\n",
    "We print the update functions for the reduced network and begin with the rspace, which is gives conditions for the existance of a motif-avoidant attractor."
   ]
  },
  {
   "cell_type": "code",
   "execution_count": 7,
   "metadata": {},
   "outputs": [
    {
     "name": "stdout",
     "output_type": "stream",
     "text": [
      "A20* = NFKB\n",
      "Apoptosis* = Caspase\n",
      "BID* = !BclxL & GZMB & !MCL1 | !BclxL & Caspase & !MCL1\n",
      "BclxL* = !BID & !DISC & !GZMB & STAT3 | !BID & !DISC & !GZMB & NFKB\n",
      "CTLA4* = TCR\n",
      "Caspase* = BID & !IAP & TRADD | BID & GZMB & !IAP | DISC\n",
      "Ceramide* = Fas\n",
      "Cytoskeleton_signaling* = FYN\n",
      "DISC* = Fas & FasT & IL2 | !FLIP & Fas & FasT | Ceramide & FasT\n",
      "ERK* = MEK & PI3K\n",
      "FLIP* = !DISC & NFKB\n",
      "FYN* = TCR | IL2RB\n",
      "Fas* = FasL & FasT\n",
      "FasL* = STAT3 | NFKB | NFAT | ERK\n",
      "FasT* = NFKB\n",
      "GAP* = !IL2 & RAS\n",
      "GRB2* = ZAP70 | IL2RB\n",
      "GZMB* = TBET\n",
      "IAP* = !BID & NFKB\n",
      "IFNGT* = TBET | STAT3 | NFAT\n",
      "IL2* = STAT3 & !TBET | NFKB & !TBET | NFAT & !TBET\n",
      "IL2RA* = IL2 & !IL2RA & IL2RAT\n",
      "IL2RAT* = IL2 & STAT3 | IL2 & NFKB\n",
      "IL2RB* = IL2 & IL2RBT\n",
      "IL2RBT* = ERK & TBET\n",
      "JAK* = RANTES & !SOCS | IL2RB & !SOCS | IL2RA & !SOCS\n",
      "LCK* = TCR & !ZAP70 | IL2RB & !ZAP70\n",
      "MCL1* = !DISC & IL2RB & NFKB & PI3K & STAT3\n",
      "MEK* = RAS\n",
      "NFAT* = PI3K\n",
      "NFKB* = FLIP & IAP & TRADD | TPL2 | PI3K\n",
      "P27* = STAT3\n",
      "PI3K* = RAS\n",
      "PLCG1* = GRB2\n",
      "Proliferation* = !P27 & STAT3\n",
      "RANTES* = NFKB\n",
      "RAS* = !GAP & PLCG1 | !GAP & GRB2\n",
      "SOCS* = !IL2 & JAK\n",
      "STAT3* = JAK\n",
      "TBET* = TBET | JAK\n",
      "TCR* = !CTLA4\n",
      "TNF* = NFKB\n",
      "TPL2* = PI3K & TNF\n",
      "TRADD* = !A20 & !IAP & TNF\n",
      "ZAP70* = !FYN & LCK\n"
     ]
    }
   ],
   "source": [
    "sm.format.pretty_print_prime_rules(mr0.reduced_primes)"
   ]
  },
  {
   "cell_type": "code",
   "execution_count": 8,
   "metadata": {},
   "outputs": [
    {
     "name": "stdout",
     "output_type": "stream",
     "text": [
      "{'TBET': 0, 'JAK': 0, 'GZMB': 0, 'IL2RBT': 0, 'SOCS': 0, 'STAT3': 0, 'IL2RB': 0, 'MCL1': 0, 'P27': 0, 'Proliferation': 0}\n",
      "( !IL2RA & !IL2RB & !RANTES | SOCS ) & ( !BID | !BclxL ) & ( !FLIP | !IAP | NFKB | !TRADD )\n"
     ]
    }
   ],
   "source": [
    "print(mr0.fixed_rspace_nodes)\n",
    "print(mr0.reduced_rspace_constraint)"
   ]
  },
  {
   "cell_type": "markdown",
   "metadata": {},
   "source": [
    "Here we need to do a little bit of work by hand. Notice that `SOCS=IL2RB=0` is required by the fixed_rspace_nodes.\n",
    "<br>\n",
    "Therefore, the term in the reduced_rspace_constraint `( !IL2RA & !IL2RB & !RANTES | SOCS )` reduces to\n",
    "<br><br>\n",
    "`!IL2RA & !RANTES`, so we also require:\n",
    "<br>\n",
    "`IL2RA = RANTES = 0` and `IL2RA* = RANTES* = 0`.\n",
    "<br><br>\n",
    "These latter conditions give:\n",
    "<br>\n",
    "`IL2RA* = IL2 & !IL2RA & IL2RAT = 0`, or equivalently `IL2 & IL2RAT = 0` (as `IL2RA=0`), and\n",
    "<br>\n",
    "`RANTES* = NFKB = 0`.\n",
    "<br><br>\n",
    "The `NFKB = 0` requirement means that\n",
    "<br>\n",
    "`NFKB* = 0 = FLIP & IAP & TRADD | TPL2 | PI3K`.\n",
    "<br>\n",
    "This leads to the conditions `TPL2 = PI3K = TPL2* = PI3K* = 0`\n",
    "<br><br>\n",
    "These give:\n",
    "<br>\n",
    "`TPL2* = PI3K & TNF = 0` (this follows from `PI3K=0` automatically) and\n",
    "<br>\n",
    "`PI3K* = RAS = 0` (and so `RAS*=0`)\n",
    "<br>\n",
    "`RAS*=0` gives `!GAP & PLCG1 = !GAP & GRB2 = 0`.\n",
    "<br><br>\n",
    "We can combine all these two obtain the following:"
   ]
  },
  {
   "cell_type": "code",
   "execution_count": 9,
   "metadata": {},
   "outputs": [
    {
     "name": "stdout",
     "output_type": "stream",
     "text": [
      "{'TBET': 0, 'JAK': 0, 'GZMB': 0, 'IL2RBT': 0, 'SOCS': 0, 'STAT3': 0, 'IL2RB': 0, 'MCL1': 0, 'P27': 0, 'Proliferation': 0, 'IL2RA': 0, 'RANTES': 0, 'NFKB': 0, 'TPL2': 0, 'PI3K': 0, 'RAS': 0}\n",
      "( GAP | !PLGC1 & !GRB2 ) & ( !BID | !BclxL ) & ( !FLIP | !IAP | !TRADD )\n"
     ]
    }
   ],
   "source": [
    "fixed_by_hand0 = mr0.fixed_rspace_nodes.copy()\n",
    "fixed_by_hand0['IL2RA']=0\n",
    "fixed_by_hand0['RANTES']=0\n",
    "fixed_by_hand0['NFKB']=0\n",
    "fixed_by_hand0['TPL2']=0\n",
    "fixed_by_hand0['PI3K']=0\n",
    "fixed_by_hand0['RAS']=0\n",
    "\n",
    "constraint_by_hand0 = '( GAP | !PLGC1 & !GRB2 ) & ( !BID | !BclxL ) & ( !FLIP | !IAP | !TRADD )'\n",
    "\n",
    "print(fixed_by_hand0)\n",
    "print(constraint_by_hand0)"
   ]
  },
  {
   "cell_type": "markdown",
   "metadata": {},
   "source": [
    "Plugging in this new information and percolating gives a much smaller system:"
   ]
  },
  {
   "cell_type": "code",
   "execution_count": 11,
   "metadata": {},
   "outputs": [
    {
     "name": "stdout",
     "output_type": "stream",
     "text": [
      "CTLA4* = TCR\n",
      "Cytoskeleton_signaling* = FYN\n",
      "FYN* = TCR\n",
      "GRB2* = ZAP70\n",
      "LCK* = TCR & !ZAP70\n",
      "PLCG1* = GRB2\n",
      "TCR* = !CTLA4\n",
      "ZAP70* = !FYN & LCK\n"
     ]
    }
   ],
   "source": [
    "pr_by_hand0,perc_by_hand0 = sm.reduction.reduce_primes(fixed_by_hand0,mr0.rspace_update_primes)\n",
    "sm.format.pretty_print_prime_rules(pr_by_hand0)"
   ]
  },
  {
   "cell_type": "markdown",
   "metadata": {},
   "source": [
    "We have the following percolated states:"
   ]
  },
  {
   "cell_type": "code",
   "execution_count": 12,
   "metadata": {},
   "outputs": [
    {
     "name": "stdout",
     "output_type": "stream",
     "text": [
      "{'IL2RA': 0, 'NFKB': 0, 'PI3K': 0, 'RANTES': 0, 'RAS': 0, 'TPL2': 0, 'TBET': 0, 'JAK': 0, 'GZMB': 0, 'IL2RBT': 0, 'SOCS': 0, 'STAT3': 0, 'IL2RB': 0, 'MCL1': 0, 'P27': 0, 'Proliferation': 0, 'A20': 0, 'BclxL': 0, 'ERK': 0, 'FLIP': 0, 'FasT': 0, 'GAP': 0, 'IAP': 0, 'IL2RAT': 0, 'MEK': 0, 'NFAT': 0, 'TNF': 0, 'IFNGT': 0, 'IL2': 0, 'TRADD': 0, 'FasL': 0, 'DISC': 0, 'Fas': 0, 'Caspase': 0, 'Ceramide': 0, 'Apoptosis': 0, 'BID': 0}\n"
     ]
    }
   ],
   "source": [
    "print(perc_by_hand0)"
   ]
  },
  {
   "cell_type": "markdown",
   "metadata": {},
   "source": [
    "We can check the status of some relevant variables in the rspace constraint again:"
   ]
  },
  {
   "cell_type": "code",
   "execution_count": 13,
   "metadata": {},
   "outputs": [
    {
     "name": "stdout",
     "output_type": "stream",
     "text": [
      "( GAP | !PLGC1 & !GRB2 ) & ( !BID | !BclxL ) & ( !FLIP | !IAP | !TRADD )\n",
      "BID: 0\n",
      "FLIP: 0\n",
      "GAP: 0\n"
     ]
    }
   ],
   "source": [
    "print(constraint_by_hand0)\n",
    "print('BID:',perc_by_hand0['BID'])\n",
    "print('FLIP:',perc_by_hand0['FLIP'])\n",
    "print('GAP:',perc_by_hand0['GAP'])"
   ]
  },
  {
   "cell_type": "markdown",
   "metadata": {},
   "source": [
    "We can use these pieces of information to further simplify the constraint to\n",
    "`!PLGC1 & !GRB2`, i.e., we require `PLGC1=GRB2=PLGC1*=GRB2*=0`.\n",
    "<br>\n",
    "Looking at the rules, we see this implies that we must have `ZAP70=ZAP70*=0` as well, i.e.,\n",
    "<br>\n",
    "`!FYN & LCK = 0`.\n",
    "<br><br>\n",
    "Assuming `ZAP70=0` gives `FYN* = LCK* = TCR`.\n",
    "<br>\n",
    "However, `TCR` oscillates (because it is in a 2-node negative feedback loop with `CTLA4`).\n",
    "<br><br>\n",
    "Therefore, there are update orders in which `!FYN & LCK` can become `1`.\n",
    "This implies that the rspace is NOT stable, so this attractor candidate does not correspond to a genuine attractor.\n",
    "<br><br>\n",
    "We can verify this by finding the attractors of the \"by hand\" reduced system. We find that all nodes oscillate here."
   ]
  },
  {
   "cell_type": "code",
   "execution_count": 14,
   "metadata": {},
   "outputs": [
    {
     "name": "stdout",
     "output_type": "stream",
     "text": [
      "There is 1 attractor.\n",
      "{'CTLA4': 'X', 'Cytoskeleton_signaling': 'X', 'FYN': 'X', 'GRB2': 'X', 'LCK': 'X', 'PLCG1': 'X', 'TCR': 'X', 'ZAP70': 'X'}\n",
      "\n"
     ]
    }
   ],
   "source": [
    "ar2_by_hand = sm.AttractorRepertoire.from_primes(pr_by_hand0)\n",
    "ar2_by_hand.summary()"
   ]
  },
  {
   "cell_type": "markdown",
   "metadata": {},
   "source": [
    "#### Therefore, there is an update order that will eventually lead to stabilization of a stable motif, and the first candidate is NOT a true attractor."
   ]
  },
  {
   "cell_type": "markdown",
   "metadata": {},
   "source": [
    "## Analyzing the second candidate"
   ]
  },
  {
   "cell_type": "code",
   "execution_count": 15,
   "metadata": {},
   "outputs": [
    {
     "name": "stdout",
     "output_type": "stream",
     "text": [
      "A20* = NFKB\n",
      "Apoptosis* = Caspase\n",
      "BID* = !BclxL & GZMB & !MCL1 | !BclxL & Caspase & !MCL1\n",
      "BclxL* = !BID & !DISC & !GZMB & STAT3 | !BID & !DISC & !GZMB & NFKB\n",
      "CREB* = ERK & IFNG\n",
      "CTLA4* = TCR\n",
      "Caspase* = BID & !IAP & TRADD | BID & GZMB & !IAP | DISC\n",
      "Ceramide* = Fas\n",
      "Cytoskeleton_signaling* = FYN\n",
      "DISC* = Fas & FasT & IL2 | !FLIP & Fas & FasT | Ceramide & FasT\n",
      "ERK* = MEK & PI3K\n",
      "FLIP* = CREB & !DISC & IFNG | !DISC & NFKB\n",
      "FYN* = TCR | IL2RB\n",
      "Fas* = FasL & FasT\n",
      "FasL* = STAT3 | NFKB | NFAT | ERK\n",
      "FasT* = NFKB\n",
      "GAP* = !IL2 & RAS\n",
      "GRB2* = ZAP70 | IL2RB\n",
      "GZMB* = CREB & IFNG | TBET\n",
      "IAP* = !BID & NFKB\n",
      "IFNG* = IFNGT & !P2\n",
      "IFNGT* = TBET | STAT3 | NFAT\n",
      "IL2* = STAT3 & !TBET | NFKB & !TBET | NFAT & !TBET\n",
      "IL2RA* = IL2 & !IL2RA & IL2RAT\n",
      "IL2RAT* = IL2 & STAT3 | IL2 & NFKB\n",
      "IL2RB* = IL2 & IL2RBT\n",
      "IL2RBT* = ERK & TBET\n",
      "JAK* = RANTES & !SOCS | IL2RB & !SOCS | IL2RA & !SOCS | IFNG & !SOCS\n",
      "LCK* = TCR & !ZAP70 | IL2RB & !ZAP70\n",
      "MCL1* = !DISC & IL2RB & NFKB & PI3K & STAT3\n",
      "MEK* = RAS\n",
      "NFAT* = PI3K\n",
      "NFKB* = FLIP & IAP & TRADD | TPL2 | PI3K\n",
      "P2* = P2 | IFNG\n",
      "P27* = STAT3\n",
      "PI3K* = RAS\n",
      "PLCG1* = GRB2\n",
      "Proliferation* = !P27 & STAT3\n",
      "RANTES* = NFKB\n",
      "RAS* = !GAP & PLCG1 | !GAP & GRB2\n",
      "SOCS* = !IL2 & JAK\n",
      "STAT3* = JAK\n",
      "TBET* = TBET | JAK\n",
      "TCR* = !CTLA4\n",
      "TNF* = NFKB\n",
      "TPL2* = PI3K & TNF\n",
      "TRADD* = !A20 & !IAP & TNF\n",
      "ZAP70* = !FYN & LCK\n",
      "\n",
      "{'P2': 0, 'TBET': 0, 'IFNG': 0, 'JAK': 0, 'CREB': 0, 'GZMB': 0, 'IL2RBT': 0, 'SOCS': 0, 'STAT3': 0, 'IL2RB': 0, 'MCL1': 0, 'P27': 0, 'Proliferation': 0}\n",
      "( P2 | !IFNGT ) & ( !IFNG & !IL2RA & !IL2RB & !RANTES | SOCS ) & ( !BID | !BclxL )\n"
     ]
    }
   ],
   "source": [
    "sm.format.pretty_print_prime_rules(mr1.reduced_primes)\n",
    "print()\n",
    "print(mr1.fixed_rspace_nodes)\n",
    "print(mr1.reduced_rspace_constraint)"
   ]
  },
  {
   "cell_type": "markdown",
   "metadata": {},
   "source": [
    "This also requires some additional help simplifying.\n",
    "Notice that `P2=SOCS=IFNG=IL2RB=0` is fixed. This gives a simplified constraint as follows:\n",
    "<br>\n",
    "`( !IFNGT ) & ( !IL2RA & !RANTES ) & ( !BID | !BclxL )`\n",
    "<br><br>\n",
    "The update rules are very similar in this branch, so as before we obtain . . .\n",
    "\n",
    "```\n",
    "IL2RA = RANTES = IL2RA* = RANTES* = 0\n",
    "IL2RA* = IL2 & IL2RAT = 0\n",
    "RANTES* = NFKB = 0\n",
    "NFKB* = FLIP & IAP & TRADD | TPL2 | PI3K = 0\n",
    "TPL2 = PI3K = TPL2* = PI3K* = 0\n",
    "PI3K* = RAS = 0\n",
    "RAS*=0 = !GAP & PLCG1 = !GAP & GRB2 = 0.\n",
    "```\n",
    "\n",
    "We can also leverage the `IFNGT = IFNGT* = 0` requirement:\n",
    "`IFNGT = IFNGT* = NFAT = NFAT* = PI3K = 0`.\n",
    "<br><br>\n",
    "Combining these gives the same reduced rspace constraint as in the other branch."
   ]
  },
  {
   "cell_type": "code",
   "execution_count": 16,
   "metadata": {},
   "outputs": [
    {
     "name": "stdout",
     "output_type": "stream",
     "text": [
      "{'P2': 0, 'TBET': 0, 'IFNG': 0, 'JAK': 0, 'CREB': 0, 'GZMB': 0, 'IL2RBT': 0, 'SOCS': 0, 'STAT3': 0, 'IL2RB': 0, 'MCL1': 0, 'P27': 0, 'Proliferation': 0, 'IL2RA': 0, 'RANTES': 0, 'NFKB': 0, 'TPL2': 0, 'PI3K': 0, 'RAS': 0, 'IFNGT': 0, 'NFAT': 0}\n",
      "( GAP | !PLGC1 & !GRB2 ) & ( !BID | !BclxL ) & ( !FLIP | !IAP | !TRADD )\n"
     ]
    }
   ],
   "source": [
    "fixed_by_hand1 = mr1.fixed_rspace_nodes.copy()\n",
    "fixed_by_hand1['IL2RA']=0\n",
    "fixed_by_hand1['RANTES']=0\n",
    "fixed_by_hand1['NFKB']=0\n",
    "fixed_by_hand1['TPL2']=0\n",
    "fixed_by_hand1['PI3K']=0\n",
    "fixed_by_hand1['RAS']=0\n",
    "fixed_by_hand1['IFNGT']=0\n",
    "fixed_by_hand1['NFAT']=0\n",
    "\n",
    "constraint_by_hand1 = '( GAP | !PLGC1 & !GRB2 ) & ( !BID | !BclxL ) & ( !FLIP | !IAP | !TRADD )'\n",
    "\n",
    "print(fixed_by_hand1)\n",
    "print(constraint_by_hand1)"
   ]
  },
  {
   "cell_type": "markdown",
   "metadata": {},
   "source": [
    "We percolate as before."
   ]
  },
  {
   "cell_type": "code",
   "execution_count": 17,
   "metadata": {},
   "outputs": [
    {
     "name": "stdout",
     "output_type": "stream",
     "text": [
      "CTLA4* = TCR\n",
      "Cytoskeleton_signaling* = FYN\n",
      "FYN* = TCR\n",
      "GRB2* = ZAP70\n",
      "LCK* = TCR & !ZAP70\n",
      "PLCG1* = GRB2\n",
      "TCR* = !CTLA4\n",
      "ZAP70* = !FYN & LCK\n"
     ]
    }
   ],
   "source": [
    "pr_by_hand1,perc_by_hand1 = sm.reduction.reduce_primes(fixed_by_hand1,mr1.rspace_update_primes)\n",
    "sm.format.pretty_print_prime_rules(pr_by_hand1)"
   ]
  },
  {
   "cell_type": "markdown",
   "metadata": {},
   "source": [
    "We can again check the status of some relevant variables and substitute."
   ]
  },
  {
   "cell_type": "code",
   "execution_count": 18,
   "metadata": {},
   "outputs": [
    {
     "name": "stdout",
     "output_type": "stream",
     "text": [
      "( GAP | !PLGC1 & !GRB2 ) & ( !BID | !BclxL ) & ( !FLIP | !IAP | !TRADD )\n",
      "GAP: 0\n",
      "FLIP: 0\n",
      "BID: 0\n"
     ]
    }
   ],
   "source": [
    "print(constraint_by_hand1)\n",
    "print('GAP:',perc_by_hand1['GAP'])\n",
    "print('FLIP:',perc_by_hand1['FLIP'])\n",
    "print('BID:',perc_by_hand1['BID'])"
   ]
  },
  {
   "cell_type": "markdown",
   "metadata": {},
   "source": [
    "We therefore find  that we must satisfy `!PLGC1 & !GRB2 = 1`, i.e., `PLGC1 = GRB2 = 0`. However, all nodes oscillate in the sole attractor (and in particular, `GRB2` and `PLGC1` are not both fixed at 0)."
   ]
  },
  {
   "cell_type": "code",
   "execution_count": 19,
   "metadata": {},
   "outputs": [
    {
     "name": "stdout",
     "output_type": "stream",
     "text": [
      "There is 1 attractor.\n",
      "{'CTLA4': 'X', 'Cytoskeleton_signaling': 'X', 'FYN': 'X', 'GRB2': 'X', 'LCK': 'X', 'PLCG1': 'X', 'TCR': 'X', 'ZAP70': 'X'}\n",
      "\n"
     ]
    }
   ],
   "source": [
    "sm.AttractorRepertoire.from_primes(pr_by_hand1).summary()"
   ]
  },
  {
   "cell_type": "markdown",
   "metadata": {},
   "source": [
    "#### Therefore, *neither* candidate is genuine, and the system has only the 31 verified attractors."
   ]
  }
 ],
 "metadata": {
  "kernelspec": {
   "display_name": "Python 3 (ipykernel)",
   "language": "python",
   "name": "python3"
  },
  "language_info": {
   "codemirror_mode": {
    "name": "ipython",
    "version": 3
   },
   "file_extension": ".py",
   "mimetype": "text/x-python",
   "name": "python",
   "nbconvert_exporter": "python",
   "pygments_lexer": "ipython3",
   "version": "3.9.6"
  }
 },
 "nbformat": 4,
 "nbformat_minor": 4
}
