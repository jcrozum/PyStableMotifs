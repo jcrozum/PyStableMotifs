{
 "cells": [
  {
   "cell_type": "code",
   "execution_count": 1,
   "metadata": {},
   "outputs": [],
   "source": [
    "import unittest\n",
    "import StableMotifs as sm\n",
    "import PyBoolNet\n",
    "import networkx as nx"
   ]
  },
  {
   "cell_type": "markdown",
   "metadata": {},
   "source": [
    "# \"easy\" example"
   ]
  },
  {
   "cell_type": "code",
   "execution_count": 6,
   "metadata": {},
   "outputs": [],
   "source": [
    "\n",
    "rules='''\n",
    "A*=B\n",
    "B*=A\n",
    "C*=A or not D\n",
    "D*=C\n",
    "E*=B and F\n",
    "F*=E\n",
    "'''\n"
   ]
  },
  {
   "cell_type": "code",
   "execution_count": 7,
   "metadata": {},
   "outputs": [
    {
     "name": "stdout",
     "output_type": "stream",
     "text": [
      "not terminal reduction\n",
      "[{'A': 0, 'B': 0, 'E': 0, 'F': 0, 'C': 'X', 'D': 'X'}]\n",
      "not terminal reduction\n",
      "{'A': 1, 'B': 1, 'C': 1, 'D': 1, 'E': 1, 'F': 1}\n",
      "{'A': 1, 'B': 1, 'C': 1, 'D': 1, 'E': 0, 'F': 0}\n",
      "not terminal reduction\n",
      "[{'E': 0, 'F': 0, 'A': 0, 'B': 0, 'C': 'X', 'D': 'X'}]\n"
     ]
    }
   ],
   "source": [
    "rules_pbn = sm.Format.booleannet2bnet(rules)\n",
    "primes = PyBoolNet.FileExchange.bnet2primes(rules_pbn)\n",
    "#diag = sm.Succession.build_succession_diagram(primes, max_simulate_size=0)\n",
    "diag = sm.Succession.build_succession_diagram(primes)\n",
    "for reduction in diag.motif_reduction_list:\n",
    "    print(reduction.generate_attr_dict())"
   ]
  },
  {
   "cell_type": "code",
   "execution_count": 8,
   "metadata": {},
   "outputs": [
    {
     "name": "stdout",
     "output_type": "stream",
     "text": [
      "not terminal reduction\n",
      "{'A': 0, 'B': 0, 'E': 0, 'F': 0, 'C': '?', 'D': '?'}\n",
      "not terminal reduction\n",
      "{'A': 1, 'B': 1, 'C': 1, 'D': 1, 'E': 1, 'F': 1}\n",
      "{'A': 1, 'B': 1, 'C': 1, 'D': 1, 'E': 0, 'F': 0}\n",
      "not terminal reduction\n",
      "{'E': 0, 'F': 0, 'A': 0, 'B': 0, 'C': '?', 'D': '?'}\n"
     ]
    }
   ],
   "source": [
    "rules_pbn = sm.Format.booleannet2bnet(rules)\n",
    "primes = PyBoolNet.FileExchange.bnet2primes(rules_pbn)\n",
    "diag = sm.Succession.build_succession_diagram(primes, max_simulate_size=0)\n",
    "for reduction in diag.motif_reduction_list:\n",
    "    print(reduction.generate_attr_dict())"
   ]
  },
  {
   "cell_type": "markdown",
   "metadata": {},
   "source": [
    "# \"pathological\" example"
   ]
  },
  {
   "cell_type": "code",
   "execution_count": 9,
   "metadata": {},
   "outputs": [],
   "source": [
    "rules='''\n",
    "xA*= not xA and not xB or xC\n",
    "xB*= not xA and not xB or xC\n",
    "xC*= xA and xB\n",
    "'''"
   ]
  },
  {
   "cell_type": "code",
   "execution_count": 10,
   "metadata": {},
   "outputs": [
    {
     "name": "stdout",
     "output_type": "stream",
     "text": [
      "[{'xA': 'X', 'xB': 'X', 'xC': '0'}]\n",
      "{'xA': 1, 'xB': 1, 'xC': 1}\n"
     ]
    }
   ],
   "source": [
    "rules_pbn = sm.Format.booleannet2bnet(rules)\n",
    "primes = PyBoolNet.FileExchange.bnet2primes(rules_pbn)\n",
    "#diag = sm.Succession.build_succession_diagram(primes, max_simulate_size=0)\n",
    "diag = sm.Succession.build_succession_diagram(primes)\n",
    "for reduction in diag.motif_reduction_list:\n",
    "    print(reduction.generate_attr_dict())"
   ]
  },
  {
   "cell_type": "code",
   "execution_count": 11,
   "metadata": {},
   "outputs": [
    {
     "name": "stdout",
     "output_type": "stream",
     "text": [
      "{'xA': '!', 'xB': '!', 'xC': '!'}\n",
      "{'xA': 1, 'xB': 1, 'xC': 1}\n"
     ]
    }
   ],
   "source": [
    "rules_pbn = sm.Format.booleannet2bnet(rules)\n",
    "primes = PyBoolNet.FileExchange.bnet2primes(rules_pbn)\n",
    "diag = sm.Succession.build_succession_diagram(primes, max_simulate_size=0)\n",
    "#diag = sm.Succession.build_succession_diagram(primes)\n",
    "for reduction in diag.motif_reduction_list:\n",
    "    print(reduction.generate_attr_dict())"
   ]
  },
  {
   "cell_type": "markdown",
   "metadata": {},
   "source": [
    "# \"two complex attractors in the same reduction\" example"
   ]
  },
  {
   "cell_type": "code",
   "execution_count": 12,
   "metadata": {},
   "outputs": [],
   "source": [
    "\n",
    "rules='''a* = !b | Z\n",
    "b* = c | Z\n",
    "c* = a & ~Z\n",
    "A* = ~B | Y\n",
    "B* = C | Y\n",
    "C* = A & ~Y\n",
    "Z* = ~(A & B & ~C)\n",
    "Y* = ~(a & b & ~c)\n",
    "'''"
   ]
  },
  {
   "cell_type": "code",
   "execution_count": 13,
   "metadata": {},
   "outputs": [
    {
     "name": "stdout",
     "output_type": "stream",
     "text": [
      "[{'A': '1', 'B': '1', 'C': '0', 'Y': '1', 'Z': '0', 'a': 'X', 'b': 'X', 'c': 'X'}, {'A': 'X', 'B': 'X', 'C': 'X', 'Y': '0', 'Z': '1', 'a': '1', 'b': '1', 'c': '0'}]\n"
     ]
    }
   ],
   "source": [
    "rules_pbn = sm.Format.booleannet2bnet(rules)\n",
    "primes = PyBoolNet.FileExchange.bnet2primes(rules_pbn)\n",
    "#diag = sm.Succession.build_succession_diagram(primes, max_simulate_size=0)\n",
    "diag = sm.Succession.build_succession_diagram(primes)\n",
    "for reduction in diag.motif_reduction_list:\n",
    "    print(reduction.generate_attr_dict())"
   ]
  },
  {
   "cell_type": "code",
   "execution_count": 14,
   "metadata": {},
   "outputs": [
    {
     "name": "stdout",
     "output_type": "stream",
     "text": [
      "{'A': '?', 'B': '?', 'C': '?', 'Y': '?', 'Z': '?', 'a': '?', 'b': '?', 'c': '?'}\n"
     ]
    }
   ],
   "source": [
    "rules_pbn = sm.Format.booleannet2bnet(rules)\n",
    "primes = PyBoolNet.FileExchange.bnet2primes(rules_pbn)\n",
    "diag = sm.Succession.build_succession_diagram(primes, max_simulate_size=0)\n",
    "for reduction in diag.motif_reduction_list:\n",
    "    print(reduction.generate_attr_dict())"
   ]
  },
  {
   "cell_type": "markdown",
   "metadata": {},
   "source": [
    "# PSO"
   ]
  },
  {
   "cell_type": "code",
   "execution_count": 15,
   "metadata": {},
   "outputs": [],
   "source": [
    "rules='''Cdc20*= pAPC and (not Cdh1)\n",
    "Cdc25C*= CyclinA or (CyclinB and Cdk1)\n",
    "Cdh1*= (not CyclinA) and (not (CyclinB and Cdk1))\n",
    "Cdk1*= Cdc25C and (CyclinA or CyclinB)\n",
    "CyclinA*= (not (pAPC or (Cdh1 and UbcH10) ) )\n",
    "CyclinB*= not (pAPC and Cdc20) and (not Cdh1)\n",
    "pAPC*= (pAPC and Cdc20) or (CyclinB and Cdk1)\n",
    "UbcH10*= (not Cdh1) or (UbcH10 and (Cdc20 or CyclinA or CyclinB))\n",
    "'''"
   ]
  },
  {
   "cell_type": "code",
   "execution_count": 16,
   "metadata": {},
   "outputs": [
    {
     "name": "stdout",
     "output_type": "stream",
     "text": [
      "[{'Cdc20': 'X', 'Cdc25C': 'X', 'Cdh1': 'X', 'Cdk1': 'X', 'CyclinA': 'X', 'CyclinB': 'X', 'UbcH10': 'X', 'pAPC': 'X'}]\n"
     ]
    }
   ],
   "source": [
    "rules_pbn = sm.Format.booleannet2bnet(rules)\n",
    "primes = PyBoolNet.FileExchange.bnet2primes(rules_pbn)\n",
    "#diag = sm.Succession.build_succession_diagram(primes, max_simulate_size=0)\n",
    "diag = sm.Succession.build_succession_diagram(primes)\n",
    "for reduction in diag.motif_reduction_list:\n",
    "    print(reduction.generate_attr_dict())"
   ]
  },
  {
   "cell_type": "code",
   "execution_count": 17,
   "metadata": {},
   "outputs": [
    {
     "name": "stdout",
     "output_type": "stream",
     "text": [
      "{'Cdc20': '?', 'Cdc25C': '?', 'Cdh1': '?', 'Cdk1': '?', 'CyclinA': '?', 'CyclinB': '?', 'UbcH10': '?', 'pAPC': '?'}\n"
     ]
    }
   ],
   "source": [
    "rules_pbn = sm.Format.booleannet2bnet(rules)\n",
    "primes = PyBoolNet.FileExchange.bnet2primes(rules_pbn)\n",
    "diag = sm.Succession.build_succession_diagram(primes, max_simulate_size=0)\n",
    "for reduction in diag.motif_reduction_list:\n",
    "    print(reduction.generate_attr_dict())"
   ]
  },
  {
   "cell_type": "markdown",
   "metadata": {},
   "source": [
    "# Phase Switch "
   ]
  },
  {
   "cell_type": "code",
   "execution_count": 18,
   "metadata": {},
   "outputs": [],
   "source": [
    "rules='''Cdc20*= pAPC and (not Cdh1) and (not Mad2)\n",
    "Cdc25A*= CyclinA and (not Cdh1)\n",
    "Cdc25C*= CyclinA or (CyclinB and Cdk1)\n",
    "Cdh1*= (not CyclinA) and (not (CyclinB and Cdk1))\n",
    "Cdk1*= Cdc25C and (CyclinA or CyclinB) and (Cdk1 or (not Wee1))\n",
    "CyclinA*= (Cdc25A or CyclinA) and (not (pAPC or (Cdh1 and UbcH10) ) )\n",
    "CyclinB*= not (pAPC and Cdc20) and (not Cdh1)\n",
    "Mad2*= not (pAPC and Cdc20) and CyclinB and Cdk1\n",
    "pAPC*= (pAPC and Cdc20) or (CyclinB and Cdk1)\n",
    "UbcH10*= (not Cdh1) or (UbcH10 and (Cdc20 or CyclinA or CyclinB))\n",
    "Wee1*= not ((CyclinA or CyclinB) and Cdk1)\n",
    "'''"
   ]
  },
  {
   "cell_type": "code",
   "execution_count": 19,
   "metadata": {},
   "outputs": [
    {
     "name": "stdout",
     "output_type": "stream",
     "text": [
      "not terminal reduction\n",
      "not terminal reduction\n",
      "{'Cdc25A': 0, 'CyclinA': 0, 'Cdh1': 1, 'CyclinB': 0, 'Cdc20': 0, 'Cdc25C': 0, 'Cdk1': 0, 'Mad2': 0, 'Wee1': 1, 'UbcH10': 0, 'pAPC': 0}\n",
      "{'Cdc25A': 0, 'CyclinA': 0, 'Cdc25C': 0, 'Cdk1': 0, 'Cdh1': 1, 'Mad2': 0, 'Wee1': 1, 'Cdc20': 0, 'CyclinB': 0, 'UbcH10': 0, 'pAPC': 0}\n",
      "{'Cdc25A': 0, 'CyclinA': 0, 'Cdk1': 0, 'Wee1': 1, 'Cdc25C': 0, 'Cdh1': 1, 'Mad2': 0, 'Cdc20': 0, 'CyclinB': 0, 'UbcH10': 0, 'pAPC': 0}\n",
      "{'Cdc25A': 0, 'CyclinA': 0, 'Cdc20': 0, 'Cdc25C': 1, 'Cdh1': 0, 'Cdk1': 1, 'CyclinB': 1, 'Mad2': 1, 'UbcH10': 1, 'Wee1': 0, 'pAPC': 1}\n",
      "not terminal reduction\n",
      "not terminal reduction\n",
      "{'Cdk1': 0, 'Wee1': 1, 'Mad2': 0, 'pAPC': 0, 'Cdc20': 0, 'Cdc25A': 0, 'CyclinA': 0, 'Cdc25C': 0, 'Cdh1': 1, 'CyclinB': 0, 'UbcH10': 0}\n",
      "{'Cdk1': 0, 'Wee1': 1, 'Mad2': 0, 'pAPC': 0, 'Cdc20': 0, 'Cdh1': 0, 'CyclinA': 1, 'Cdc25A': 1, 'Cdc25C': 1, 'CyclinB': 1, 'UbcH10': 1}\n",
      "{'Cdc20': 0, 'Cdc25C': 1, 'Cdh1': 0, 'Cdk1': 1, 'CyclinB': 1, 'Mad2': 1, 'UbcH10': 1, 'Wee1': 0, 'pAPC': 1, 'CyclinA': 0, 'Cdc25A': 0}\n"
     ]
    }
   ],
   "source": [
    "rules_pbn = sm.Format.booleannet2bnet(rules)\n",
    "primes = PyBoolNet.FileExchange.bnet2primes(rules_pbn)\n",
    "#diag = sm.Succession.build_succession_diagram(primes, max_simulate_size=0)\n",
    "diag = sm.Succession.build_succession_diagram(primes)\n",
    "for reduction in diag.motif_reduction_list:\n",
    "    print(reduction.generate_attr_dict())"
   ]
  },
  {
   "cell_type": "code",
   "execution_count": 20,
   "metadata": {},
   "outputs": [
    {
     "name": "stdout",
     "output_type": "stream",
     "text": [
      "not terminal reduction\n",
      "{'Cdc25A': 0, 'CyclinA': 0, 'Cdc20': '!', 'Cdc25C': '!', 'Cdh1': '!', 'Cdk1': '!', 'CyclinB': '!', 'Mad2': '!', 'UbcH10': '!', 'Wee1': '!', 'pAPC': '!'}\n",
      "{'Cdc25A': 0, 'CyclinA': 0, 'Cdh1': 1, 'CyclinB': 0, 'Cdc20': 0, 'Cdc25C': 0, 'Cdk1': 0, 'Mad2': 0, 'Wee1': 1, 'UbcH10': 0, 'pAPC': 0}\n",
      "{'Cdc25A': 0, 'CyclinA': 0, 'Cdc25C': 0, 'Cdk1': 0, 'Cdh1': 1, 'Mad2': 0, 'Wee1': 1, 'Cdc20': 0, 'CyclinB': 0, 'UbcH10': 0, 'pAPC': 0}\n",
      "{'Cdc25A': 0, 'CyclinA': 0, 'Cdk1': 0, 'Wee1': 1, 'Cdc25C': 0, 'Cdh1': 1, 'Mad2': 0, 'Cdc20': 0, 'CyclinB': 0, 'UbcH10': 0, 'pAPC': 0}\n",
      "{'Cdc25A': 0, 'CyclinA': 0, 'Cdc20': 0, 'Cdc25C': 1, 'Cdh1': 0, 'Cdk1': 1, 'CyclinB': 1, 'Mad2': 1, 'UbcH10': 1, 'Wee1': 0, 'pAPC': 1}\n",
      "not terminal reduction\n",
      "not terminal reduction\n",
      "{'Cdk1': 0, 'Wee1': 1, 'Mad2': 0, 'pAPC': 0, 'Cdc20': 0, 'Cdc25A': 0, 'CyclinA': 0, 'Cdc25C': 0, 'Cdh1': 1, 'CyclinB': 0, 'UbcH10': 0}\n",
      "{'Cdk1': 0, 'Wee1': 1, 'Mad2': 0, 'pAPC': 0, 'Cdc20': 0, 'Cdh1': 0, 'CyclinA': 1, 'Cdc25A': 1, 'Cdc25C': 1, 'CyclinB': 1, 'UbcH10': 1}\n",
      "{'Cdc20': 0, 'Cdc25C': 1, 'Cdh1': 0, 'Cdk1': 1, 'CyclinB': 1, 'Mad2': 1, 'UbcH10': 1, 'Wee1': 0, 'pAPC': 1, 'CyclinA': 0, 'Cdc25A': 0}\n"
     ]
    }
   ],
   "source": [
    "rules_pbn = sm.Format.booleannet2bnet(rules)\n",
    "primes = PyBoolNet.FileExchange.bnet2primes(rules_pbn)\n",
    "diag = sm.Succession.build_succession_diagram(primes, max_simulate_size=0)\n",
    "for reduction in diag.motif_reduction_list:\n",
    "    print(reduction.generate_attr_dict())"
   ]
  },
  {
   "cell_type": "code",
   "execution_count": null,
   "metadata": {},
   "outputs": [],
   "source": []
  }
 ],
 "metadata": {
  "kernelspec": {
   "display_name": "Python 3",
   "language": "python",
   "name": "python3"
  },
  "language_info": {
   "codemirror_mode": {
    "name": "ipython",
    "version": 3
   },
   "file_extension": ".py",
   "mimetype": "text/x-python",
   "name": "python",
   "nbconvert_exporter": "python",
   "pygments_lexer": "ipython3",
   "version": "3.7.0"
  }
 },
 "nbformat": 4,
 "nbformat_minor": 4
}
